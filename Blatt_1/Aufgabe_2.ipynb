{
 "cells": [
  {
   "cell_type": "code",
   "execution_count": 1,
   "id": "76ce2b21",
   "metadata": {
    "ExecuteTime": {
     "end_time": "2022-10-17T08:00:41.215143Z",
     "start_time": "2022-10-17T08:00:39.541252Z"
    }
   },
   "outputs": [],
   "source": [
    "import pandas as pd\n",
    "import numpy as np\n",
    "\n",
    "import matplotlib.pyplot as plt\n",
    "import seaborn as sns"
   ]
  },
  {
   "cell_type": "markdown",
   "id": "8d35b752",
   "metadata": {},
   "source": [
    "## Datenvorverarbeitung mit Pandas: Food Nutrient Database"
   ]
  },
  {
   "cell_type": "markdown",
   "id": "a1f218a6",
   "metadata": {},
   "source": [
    "Diese Aufgabe befasst sich mit einer deutlich umfangreicheren Datenbank des U.S. Department of Agriculture, aufbereitet im Format JSON von A. Williams, zum Thema Nährstoffge- halt von Nahrungsmitteln. Sie enthält 6636 Einträge für Nahrungsmittel, alle in Form von JSON-Records, wie z.B.:\n",
    "```\n",
    "{\n",
    "    \"id\": 21441,\n",
    "    \"description\": \"KENTUCKY FRIED CHICKEN, Fried Chicken, EXTRA CRISPY, Wing,\n",
    "        meat and skin with breading\", \"tags\": [\"KFC\"],\n",
    "    \"manufacturer\": \"Kentucky Fried Chicken\", \"group\": \"Fast Foods\",\n",
    "    \"portions\": [ \n",
    "        {\n",
    "            \"amount\": 1,\n",
    "            \"unit\": \"wing , with skin\",\n",
    "            \"grams\": 68.0 \n",
    "        },\n",
    "        ...\n",
    "    ], \n",
    "    \"nutrients\": [\n",
    "        {\n",
    "            \"value\": 20.8,\n",
    "            \"units\": \"g\", \n",
    "            \"description\": \"Protein\",\n",
    "            \"group\": \"Composition\" \n",
    "        },\n",
    "        ... \n",
    "    ]\n",
    "}\n",
    "```\n",
    "Ziel der Analyse in dieser Übung ist es, eine explorative Analyse des Gehalts des Spurenelementes Zink in den verschiedenen Nahrungsmitteln zu durchzuführen. Notwendig dafür sind etwas aufwändigere, aber für die Datenanlyse typische Manipulationen mit Pandas sowie der Einsatz zusätzlicher Python-Standardbibliotheken zum Download und der Verarbeitung von Zip- und JSON-Dateien."
   ]
  },
  {
   "cell_type": "markdown",
   "id": "30422868",
   "metadata": {
    "ExecuteTime": {
     "end_time": "2022-10-10T18:01:27.854555Z",
     "start_time": "2022-10-10T18:01:27.837205Z"
    }
   },
   "source": [
    "### a)\n",
    "Laden Sie die Datenbank als zip-File aus Moodle herunter und lesen Sie dieses File direkt in ein neues Notebook ein. Die bisher verwendete Pandas-Methode read_csv() funktioniert für JSON-Files leider nicht. Das heruntergeladene File wird stattdessen mithilfe des Py- thonmoduls zipfile entpackt und dem Python-Befehl open() eingelesen. Die Umwandlung des JSON-Formates in ein geeignetes Python-Format erfolgt mit einem weiteren Modul der Python-Standardlibrary, json, hier mithilfe der Funktion json.load(). Lesen Sie dazu die zugehörigen, auf dem Web bzw. Stackoverflow verfügbaren Anleitungen."
   ]
  },
  {
   "cell_type": "code",
   "execution_count": 2,
   "id": "b26f49fe",
   "metadata": {
    "ExecuteTime": {
     "end_time": "2022-10-17T08:00:44.663316Z",
     "start_time": "2022-10-17T08:00:44.061279Z"
    }
   },
   "outputs": [],
   "source": [
    "import zipfile\n",
    "import json\n",
    "\n",
    "archive = zipfile.ZipFile(\"data/foods-2011-10-03.json.zip\", \"r\")\n",
    "\n",
    "with archive.open(\"foods-2011-10-03.json\", \"r\") as f:\n",
    "    nutrients_json = json.load(f)"
   ]
  },
  {
   "cell_type": "markdown",
   "id": "b603282e",
   "metadata": {
    "ExecuteTime": {
     "end_time": "2022-10-11T08:23:11.913095Z",
     "start_time": "2022-10-11T08:23:11.882136Z"
    }
   },
   "source": [
    "### b)\n",
    "Die Datenbank steht nun in Form einer Liste aus 6636 Python-Dictionaries zu Verfügung. Jedes Dictionary enthält Angaben zu einem Nahrungsmittel. Greifen Sie sich ein beliebiges Nahrungsmittel heraus und lassen sich die Namen der Einträge mit der Methode dict.keys() anzeigen. Einer der Einträge enthält die enthaltenen Nährstoffe (nutrients), ebenfalls als Dictionary. Lassen Sie sich wiederum einen beliebigen Eintrag der Nährstoffliste anzeigen. Es sollte auffallen, dass manche Feldnamen doppelt vorkommen."
   ]
  },
  {
   "cell_type": "code",
   "execution_count": 3,
   "id": "80708ad6",
   "metadata": {
    "ExecuteTime": {
     "end_time": "2022-10-17T08:00:48.072848Z",
     "start_time": "2022-10-17T08:00:48.037236Z"
    }
   },
   "outputs": [
    {
     "data": {
      "text/plain": "dict_keys(['id', 'description', 'tags', 'manufacturer', 'group', 'portions', 'nutrients'])"
     },
     "execution_count": 3,
     "metadata": {},
     "output_type": "execute_result"
    }
   ],
   "source": [
    "nutrients_json[4].keys()"
   ]
  },
  {
   "cell_type": "code",
   "execution_count": 5,
   "id": "610fd3ba",
   "metadata": {
    "ExecuteTime": {
     "end_time": "2022-10-17T08:00:49.238862Z",
     "start_time": "2022-10-17T08:00:49.220625Z"
    }
   },
   "outputs": [
    {
     "data": {
      "text/plain": "dict_keys(['value', 'units', 'description', 'group'])"
     },
     "execution_count": 5,
     "metadata": {},
     "output_type": "execute_result"
    }
   ],
   "source": [
    "nutrients_json[4][\"nutrients\"][0].keys()"
   ]
  },
  {
   "cell_type": "markdown",
   "id": "b3abc81b",
   "metadata": {},
   "source": [
    "Teile dieser hierarchischen Struktur sollen nun in eine einheitliche Tabelle umgewandelt werden, um eine explorative Analyse durchführen zu können.\n",
    "\n",
    "Vorgehensweise:\n",
    "\n",
    "    Kopieren Sie zunächst die Felder description,group,id,manufacturer in einen eigenen DataFrame info, sowie alle Nährstofflisten in ein Array von DataFrames, wobei Sie an jeden DataFrame die entsprechende ID des Nahrungsmittels als eigene Spalte anhängen.\n",
    "    Dieses Array wird mithilfe der Funktion pandas.concat() zu einem großen DataFrame nutrients (389355 Einträge) vereinigt.\n",
    "    Entfernen Sie alle Duplikate aus diesem DataFrame.\n",
    "    Bevor beide DataFrames vereinigt werden können, gibt es noch ein Problem: beide enthalten Felder mit dem Namen description und group (s.o.). Benennen Sie diese daher mithilfe von DataFrame.rename() in eindeutige Namen um.\n",
    "    Vereinigen Sie beide DataFrames mit pandas.merge(nutrients, info, on=’id’, how=’outer’) anhand der Nahrungsmittel-ID.\n",
    "\n",
    "Überprüfen Sie das Ergebnis jeder Manipulation mit `DataFrame.head()``."
   ]
  },
  {
   "cell_type": "code",
   "execution_count": 4,
   "id": "822dfae7",
   "metadata": {
    "ExecuteTime": {
     "end_time": "2022-10-17T08:00:51.467082Z",
     "start_time": "2022-10-17T08:00:51.431073Z"
    }
   },
   "outputs": [],
   "source": [
    "info = pd.DataFrame(nutrients_json)\n",
    "\n",
    "info.drop(columns=[\"tags\", \"portions\", \"nutrients\"], inplace=True)"
   ]
  },
  {
   "cell_type": "code",
   "execution_count": 7,
   "id": "c29e3eac",
   "metadata": {
    "ExecuteTime": {
     "end_time": "2022-10-11T08:30:03.026059Z",
     "start_time": "2022-10-11T08:30:03.010230Z"
    }
   },
   "outputs": [
    {
     "data": {
      "text/plain": "     id                         description manufacturer  \\\n0  1008                     Cheese, caraway                \n1  1009                     Cheese, cheddar                \n2  1018                        Cheese, edam                \n3  1019                        Cheese, feta                \n4  1028  Cheese, mozzarella, part skim milk                \n\n                    group  \n0  Dairy and Egg Products  \n1  Dairy and Egg Products  \n2  Dairy and Egg Products  \n3  Dairy and Egg Products  \n4  Dairy and Egg Products  ",
      "text/html": "<div>\n<style scoped>\n    .dataframe tbody tr th:only-of-type {\n        vertical-align: middle;\n    }\n\n    .dataframe tbody tr th {\n        vertical-align: top;\n    }\n\n    .dataframe thead th {\n        text-align: right;\n    }\n</style>\n<table border=\"1\" class=\"dataframe\">\n  <thead>\n    <tr style=\"text-align: right;\">\n      <th></th>\n      <th>id</th>\n      <th>description</th>\n      <th>manufacturer</th>\n      <th>group</th>\n    </tr>\n  </thead>\n  <tbody>\n    <tr>\n      <th>0</th>\n      <td>1008</td>\n      <td>Cheese, caraway</td>\n      <td></td>\n      <td>Dairy and Egg Products</td>\n    </tr>\n    <tr>\n      <th>1</th>\n      <td>1009</td>\n      <td>Cheese, cheddar</td>\n      <td></td>\n      <td>Dairy and Egg Products</td>\n    </tr>\n    <tr>\n      <th>2</th>\n      <td>1018</td>\n      <td>Cheese, edam</td>\n      <td></td>\n      <td>Dairy and Egg Products</td>\n    </tr>\n    <tr>\n      <th>3</th>\n      <td>1019</td>\n      <td>Cheese, feta</td>\n      <td></td>\n      <td>Dairy and Egg Products</td>\n    </tr>\n    <tr>\n      <th>4</th>\n      <td>1028</td>\n      <td>Cheese, mozzarella, part skim milk</td>\n      <td></td>\n      <td>Dairy and Egg Products</td>\n    </tr>\n  </tbody>\n</table>\n</div>"
     },
     "execution_count": 7,
     "metadata": {},
     "output_type": "execute_result"
    }
   ],
   "source": [
    "info.head()"
   ]
  },
  {
   "cell_type": "code",
   "execution_count": 8,
   "id": "c69c2b92",
   "metadata": {
    "ExecuteTime": {
     "end_time": "2022-10-17T08:01:04.492397Z",
     "start_time": "2022-10-17T08:00:59.738728Z"
    }
   },
   "outputs": [],
   "source": [
    "nutrients = []\n",
    "\n",
    "for row in nutrients_json:\n",
    "    nutrients.append(pd.DataFrame(row[\"nutrients\"]))\n",
    "    nutrients[-1][\"id\"] = row[\"id\"]\n",
    "\n",
    "nutrients = pd.concat(nutrients)\n",
    "nutrients.drop_duplicates(inplace=True)\n",
    "\n",
    "nutrients.rename(columns={\"description\": \"nutrient_description\", \"group\": \"nutrient_group\"}, inplace=True)\n",
    "info.rename(columns={\"description\": \"food_description\", \"group\": \"food_group\"}, inplace=True)\n",
    "\n",
    "foods = pd.merge(nutrients, info, on=\"id\", how=\"outer\")"
   ]
  },
  {
   "cell_type": "code",
   "execution_count": 9,
   "id": "d6877058",
   "metadata": {
    "ExecuteTime": {
     "end_time": "2022-10-17T08:01:05.927239Z",
     "start_time": "2022-10-17T08:01:05.878808Z"
    }
   },
   "outputs": [
    {
     "data": {
      "text/plain": "    value units         nutrient_description nutrient_group    id  \\\n0   25.18     g                      Protein    Composition  1008   \n1   29.20     g            Total lipid (fat)    Composition  1008   \n2    3.06     g  Carbohydrate, by difference    Composition  1008   \n3    3.28     g                          Ash          Other  1008   \n4  376.00  kcal                       Energy         Energy  1008   \n\n  food_description manufacturer              food_group  \n0  Cheese, caraway               Dairy and Egg Products  \n1  Cheese, caraway               Dairy and Egg Products  \n2  Cheese, caraway               Dairy and Egg Products  \n3  Cheese, caraway               Dairy and Egg Products  \n4  Cheese, caraway               Dairy and Egg Products  ",
      "text/html": "<div>\n<style scoped>\n    .dataframe tbody tr th:only-of-type {\n        vertical-align: middle;\n    }\n\n    .dataframe tbody tr th {\n        vertical-align: top;\n    }\n\n    .dataframe thead th {\n        text-align: right;\n    }\n</style>\n<table border=\"1\" class=\"dataframe\">\n  <thead>\n    <tr style=\"text-align: right;\">\n      <th></th>\n      <th>value</th>\n      <th>units</th>\n      <th>nutrient_description</th>\n      <th>nutrient_group</th>\n      <th>id</th>\n      <th>food_description</th>\n      <th>manufacturer</th>\n      <th>food_group</th>\n    </tr>\n  </thead>\n  <tbody>\n    <tr>\n      <th>0</th>\n      <td>25.18</td>\n      <td>g</td>\n      <td>Protein</td>\n      <td>Composition</td>\n      <td>1008</td>\n      <td>Cheese, caraway</td>\n      <td></td>\n      <td>Dairy and Egg Products</td>\n    </tr>\n    <tr>\n      <th>1</th>\n      <td>29.20</td>\n      <td>g</td>\n      <td>Total lipid (fat)</td>\n      <td>Composition</td>\n      <td>1008</td>\n      <td>Cheese, caraway</td>\n      <td></td>\n      <td>Dairy and Egg Products</td>\n    </tr>\n    <tr>\n      <th>2</th>\n      <td>3.06</td>\n      <td>g</td>\n      <td>Carbohydrate, by difference</td>\n      <td>Composition</td>\n      <td>1008</td>\n      <td>Cheese, caraway</td>\n      <td></td>\n      <td>Dairy and Egg Products</td>\n    </tr>\n    <tr>\n      <th>3</th>\n      <td>3.28</td>\n      <td>g</td>\n      <td>Ash</td>\n      <td>Other</td>\n      <td>1008</td>\n      <td>Cheese, caraway</td>\n      <td></td>\n      <td>Dairy and Egg Products</td>\n    </tr>\n    <tr>\n      <th>4</th>\n      <td>376.00</td>\n      <td>kcal</td>\n      <td>Energy</td>\n      <td>Energy</td>\n      <td>1008</td>\n      <td>Cheese, caraway</td>\n      <td></td>\n      <td>Dairy and Egg Products</td>\n    </tr>\n  </tbody>\n</table>\n</div>"
     },
     "execution_count": 9,
     "metadata": {},
     "output_type": "execute_result"
    }
   ],
   "source": [
    "foods.head()"
   ]
  },
  {
   "cell_type": "code",
   "execution_count": 10,
   "id": "c717722a",
   "metadata": {
    "ExecuteTime": {
     "end_time": "2022-10-17T08:01:07.511763Z",
     "start_time": "2022-10-17T08:01:07.496176Z"
    }
   },
   "outputs": [
    {
     "data": {
      "text/plain": "(375176, 8)"
     },
     "execution_count": 10,
     "metadata": {},
     "output_type": "execute_result"
    }
   ],
   "source": [
    "foods.shape"
   ]
  },
  {
   "cell_type": "markdown",
   "id": "a0b1b2a0",
   "metadata": {},
   "source": [
    "### c)\n",
    "Nun sind die Daten bereit für die Untersuchung auf das Spurenelement Zink (Feldname: Zinc, Zn). Lesen Sie dazu alle Tabelleneinträge mithilfe einer geeigneten Indizierung in einen DataFrame aus, der nur Einträge zum Nährstoff Zink enthält. Daraus wählen Sie wiederum die Spalte mit dem Zinkgehalt in mg (value) aus und stellen dafür ein Histogramm und eine Liste deskriptiver Statistiken dar. Finden Sie in Ihrer Tabelle Edamer (Cheese, edam). Hat Edamer einen überdurchschnittlichen Zinkgehalt? Haben mehr als 75% aller Nahrungsmittel einen kleineren Zinkgehalt? Welches Nahrungsmittel hat den maximalen Zinkgehalt?"
   ]
  },
  {
   "cell_type": "code",
   "execution_count": 11,
   "id": "359bf046",
   "metadata": {
    "ExecuteTime": {
     "end_time": "2022-10-11T08:59:54.412546Z",
     "start_time": "2022-10-11T08:59:54.228062Z"
    }
   },
   "outputs": [
    {
     "data": {
      "text/plain": "<Figure size 640x480 with 1 Axes>",
      "image/png": "[encoded data removed]"
     },
     "metadata": {},
     "output_type": "display_data"
    }
   ],
   "source": [
    "zinc = foods.loc[foods.nutrient_description == \"Zinc, Zn\"]\n",
    "\n",
    "plt.hist(zinc.value);"
   ]
  },
  {
   "cell_type": "code",
   "execution_count": 12,
   "id": "eb3033d7",
   "metadata": {},
   "outputs": [
    {
     "data": {
      "text/plain": "<Figure size 640x480 with 1 Axes>",
      "image/png": "[encoded data removed]"
     },
     "metadata": {},
     "output_type": "display_data"
    }
   ],
   "source": [
    "pd.plotting.boxplot(zinc, \"value\");"
   ]
  },
  {
   "cell_type": "code",
   "execution_count": 13,
   "id": "e9a94379",
   "metadata": {},
   "outputs": [
    {
     "data": {
      "text/plain": "<AxesSubplot:xlabel='value', ylabel='Density'>"
     },
     "execution_count": 13,
     "metadata": {},
     "output_type": "execute_result"
    },
    {
     "data": {
      "text/plain": "<Figure size 640x480 with 1 Axes>",
      "image/png": "[encoded data removed]"
     },
     "metadata": {},
     "output_type": "display_data"
    }
   ],
   "source": [
    "sns.kdeplot(data=zinc, x = \"value\")\n"
   ]
  },
  {
   "cell_type": "code",
   "execution_count": 14,
   "id": "66124750",
   "metadata": {
    "ExecuteTime": {
     "end_time": "2022-10-11T09:00:08.509865Z",
     "start_time": "2022-10-11T09:00:08.470973Z"
    }
   },
   "outputs": [
    {
     "data": {
      "text/plain": "count    6137.000000\nmean        2.228589\nstd         3.975321\nmin         0.000000\n25%         0.340000\n50%         0.980000\n75%         2.980000\nmax        90.950000\nName: value, dtype: float64"
     },
     "execution_count": 14,
     "metadata": {},
     "output_type": "execute_result"
    }
   ],
   "source": [
    "zinc.value.describe()"
   ]
  },
  {
   "cell_type": "code",
   "execution_count": 15,
   "id": "09d3014c",
   "metadata": {
    "ExecuteTime": {
     "end_time": "2022-10-11T09:10:45.660402Z",
     "start_time": "2022-10-11T09:10:45.560232Z"
    }
   },
   "outputs": [
    {
     "data": {
      "text/plain": "151    True\nName: value, dtype: bool"
     },
     "execution_count": 15,
     "metadata": {},
     "output_type": "execute_result"
    }
   ],
   "source": [
    "mean_zn = np.mean(foods.loc[foods.nutrient_description == \"Zinc, Zn\", \"value\"])\n",
    "\n",
    "# Vergleiche ob Zn Value für Edamer über dem Mittelwert liegt.\n",
    "foods.loc[(foods.food_description == \"Cheese, edam\") & (\n",
    "    foods.nutrient_description == \"Zinc, Zn\")].value >= mean_zn"
   ]
  },
  {
   "cell_type": "code",
   "execution_count": 16,
   "id": "2dd69333",
   "metadata": {
    "ExecuteTime": {
     "end_time": "2022-10-11T09:13:33.961767Z",
     "start_time": "2022-10-11T09:13:33.888650Z"
    }
   },
   "outputs": [
    {
     "data": {
      "text/plain": "151    True\nName: value, dtype: bool"
     },
     "execution_count": 16,
     "metadata": {},
     "output_type": "execute_result"
    }
   ],
   "source": [
    "percentile = zinc.value.quantile(0.75)\n",
    "\n",
    "foods.loc[(foods.food_description == \"Cheese, edam\") & (\n",
    "    foods.nutrient_description == \"Zinc, Zn\")].value >= percentile"
   ]
  },
  {
   "cell_type": "code",
   "execution_count": 17,
   "id": "9ec1594d",
   "metadata": {
    "ExecuteTime": {
     "end_time": "2022-10-11T09:15:34.105734Z",
     "start_time": "2022-10-11T09:15:33.277382Z"
    }
   },
   "outputs": [
    {
     "data": {
      "text/plain": "value                                               90.95\nunits                                                  mg\nnutrient_description                             Zinc, Zn\nnutrient_group                                   Elements\nid                                                  15170\nfood_description        Mollusks, oyster, eastern, canned\nmanufacturer                                             \nfood_group                 Finfish and Shellfish Products\nName: 333726, dtype: object"
     },
     "execution_count": 17,
     "metadata": {},
     "output_type": "execute_result"
    }
   ],
   "source": [
    "max_idx = zinc.value.idxmax()\n",
    "\n",
    "zinc.loc[max_idx, :]"
   ]
  },
  {
   "cell_type": "code",
   "execution_count": 1,
   "outputs": [],
   "source": [
    "%load_ext version_information"
   ],
   "metadata": {
    "collapsed": false
   }
  },
  {
   "cell_type": "code",
   "execution_count": 2,
   "outputs": [
    {
     "data": {
      "text/plain": "Software versions\nPython 3.10.4 64bit [MSC v.1916 64 bit (AMD64)]\nIPython 8.4.0\nOS Windows 10 10.0.19044 SP0\nnumpy 1.22.3\npandas 1.4.3\nmatplotlib 3.5.2\nseaborn 0.11.2\nSun Oct 30 14:58:26 2022 Mitteleuropäische Zeit",
      "text/html": "<table><tr><th>Software</th><th>Version</th></tr><tr><td>Python</td><td>3.10.4 64bit [MSC v.1916 64 bit (AMD64)]</td></tr><tr><td>IPython</td><td>8.4.0</td></tr><tr><td>OS</td><td>Windows 10 10.0.19044 SP0</td></tr><tr><td>numpy</td><td>1.22.3</td></tr><tr><td>pandas</td><td>1.4.3</td></tr><tr><td>matplotlib</td><td>3.5.2</td></tr><tr><td>seaborn</td><td>0.11.2</td></tr><tr><td colspan='2'>Sun Oct 30 14:58:26 2022 Mitteleuropäische Zeit</td></tr></table>",
      "text/latex": "\\begin{tabular}{|l|l|}\\hline\n{\\bf Software} & {\\bf Version} \\\\ \\hline\\hline\nPython & 3.10.4 64bit [MSC v.1916 64 bit (AMD64)] \\\\ \\hline\nIPython & 8.4.0 \\\\ \\hline\nOS & Windows 10 10.0.19044 SP0 \\\\ \\hline\nnumpy & 1.22.3 \\\\ \\hline\npandas & 1.4.3 \\\\ \\hline\nmatplotlib & 3.5.2 \\\\ \\hline\nseaborn & 0.11.2 \\\\ \\hline\n\\hline \\multicolumn{2}{|l|}{Sun Oct 30 14:58:26 2022 Mitteleuropäische Zeit} \\\\ \\hline\n\\end{tabular}\n",
      "application/json": {
       "Software versions": [
        {
         "module": "Python",
         "version": "3.10.4 64bit [MSC v.1916 64 bit (AMD64)]"
        },
        {
         "module": "IPython",
         "version": "8.4.0"
        },
        {
         "module": "OS",
         "version": "Windows 10 10.0.19044 SP0"
        },
        {
         "module": "numpy",
         "version": "1.22.3"
        },
        {
         "module": "pandas",
         "version": "1.4.3"
        },
        {
         "module": "matplotlib",
         "version": "3.5.2"
        },
        {
         "module": "seaborn",
         "version": "0.11.2"
        }
       ]
      }
     },
     "execution_count": 2,
     "metadata": {},
     "output_type": "execute_result"
    }
   ],
   "source": [
    "%version_information numpy, pandas, matplotlib, seaborn"
   ],
   "metadata": {
    "collapsed": false
   }
  }
 ],
 "metadata": {
  "kernelspec": {
   "display_name": "sklearn_env",
   "language": "python",
   "name": "sklearn_env"
  },
  "language_info": {
   "codemirror_mode": {
    "name": "ipython",
    "version": 3
   },
   "file_extension": ".py",
   "mimetype": "text/x-python",
   "name": "python",
   "nbconvert_exporter": "python",
   "pygments_lexer": "ipython3",
   "version": "3.10.4"
  },
  "toc": {
   "base_numbering": 1,
   "nav_menu": {},
   "number_sections": true,
   "sideBar": true,
   "skip_h1_title": false,
   "title_cell": "Table of Contents",
   "title_sidebar": "Contents",
   "toc_cell": false,
   "toc_position": {},
   "toc_section_display": true,
   "toc_window_display": false
  },
  "varInspector": {
   "cols": {
    "lenName": 16,
    "lenType": 16,
    "lenVar": 40
   },
   "kernels_config": {
    "python": {
     "delete_cmd_postfix": "",
     "delete_cmd_prefix": "del ",
     "library": "var_list.py",
     "varRefreshCmd": "print(var_dic_list())"
    },
    "r": {
     "delete_cmd_postfix": ") ",
     "delete_cmd_prefix": "rm(",
     "library": "var_list.r",
     "varRefreshCmd": "cat(var_dic_list()) "
    }
   },
   "types_to_exclude": [
    "module",
    "function",
    "builtin_function_or_method",
    "instance",
    "_Feature"
   ],
   "window_display": false
  }
 },
 "nbformat": 4,
 "nbformat_minor": 5
}
