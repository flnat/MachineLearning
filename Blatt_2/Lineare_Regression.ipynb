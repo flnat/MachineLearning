{
 "cells": [
  {
   "cell_type": "markdown",
   "source": [
    "\n",
    "### 1. Linear Regression on Fish Data\n",
    "\n",
    "The following data-set contains the number of fish groups of camper caught in a state park (taken from https://stats.idre.ucla.edu/r/dae/zip/). Your task here is to predict the number of fish caught by a fishing party from the following information:\n",
    "\n",
    "- how many people are in the group\n",
    "- the number children in the group\n",
    "- the use of live bait\n",
    "- whether the group came with a camper to the park.\n",
    "\n",
    "We have a small data set, of 250 groups, which visited a state park and provided. For comparison the data set is already split into a training set and testset.\n"
   ],
   "metadata": {
    "collapsed": false
   }
  },
  {
   "cell_type": "code",
   "execution_count": 36,
   "outputs": [],
   "source": [
    "import matplotlib.pyplot as plt\n",
    "import numpy as np\n",
    "import pandas as pd\n",
    "\n",
    "import tensorflow as tf"
   ],
   "metadata": {
    "collapsed": false
   }
  },
  {
   "cell_type": "code",
   "execution_count": 37,
   "outputs": [
    {
     "data": {
      "text/plain": "     0    1    2    3\n0  1.0  0.0  4.0  0.0\n1  1.0  1.0  2.0  0.0",
      "text/html": "<div>\n<style scoped>\n    .dataframe tbody tr th:only-of-type {\n        vertical-align: middle;\n    }\n\n    .dataframe tbody tr th {\n        vertical-align: top;\n    }\n\n    .dataframe thead th {\n        text-align: right;\n    }\n</style>\n<table border=\"1\" class=\"dataframe\">\n  <thead>\n    <tr style=\"text-align: right;\">\n      <th></th>\n      <th>0</th>\n      <th>1</th>\n      <th>2</th>\n      <th>3</th>\n    </tr>\n  </thead>\n  <tbody>\n    <tr>\n      <th>0</th>\n      <td>1.0</td>\n      <td>0.0</td>\n      <td>4.0</td>\n      <td>0.0</td>\n    </tr>\n    <tr>\n      <th>1</th>\n      <td>1.0</td>\n      <td>1.0</td>\n      <td>2.0</td>\n      <td>0.0</td>\n    </tr>\n  </tbody>\n</table>\n</div>"
     },
     "execution_count": 37,
     "metadata": {},
     "output_type": "execute_result"
    }
   ],
   "source": [
    "\n",
    "# The Fish Data Set\n",
    "# See example 2 from https://stats.idre.ucla.edu/r/dae/zip/\n",
    "#\"nofish\",\"livebait\",\"camper\",\"persons\",\"child\",\"xb\",\"zg\",\"count\"\n",
    "import os\n",
    "from urllib.request import urlretrieve\n",
    "\n",
    "if not os.path.isfile('fishing.npz'):\n",
    "    print(\"Downloading\")\n",
    "    urlretrieve('http://www-home.htwg-konstanz.de/~oduerr/data/fishing.npz', filename='fishing.npz')\n",
    "d = np.load('fishing.npz')\n",
    "Xt = d['Xt']  #\"livebait\",\"camper\",\"persons\",\"child\"\n",
    "Xte = d['Xte']\n",
    "yt = d['yt']\n",
    "yte = d['yte']\n",
    "pd.DataFrame(Xt[0:2])\n",
    "\n"
   ],
   "metadata": {
    "collapsed": false
   }
  },
  {
   "cell_type": "markdown",
   "source": [
    "#### a)\n",
    "Do a linear regression by creating a design matrix with the intercept term and use the fomulae given in the lecture to determine the coefficients on the training set."
   ],
   "metadata": {
    "collapsed": false
   }
  },
  {
   "cell_type": "code",
   "execution_count": 38,
   "outputs": [],
   "source": [
    "def to_design_matrix(X: np.ndarray):\n",
    "    X = X.copy()\n",
    "    n = len(X)\n",
    "    return np.hstack((np.ones(n)[:, np.newaxis], X))\n"
   ],
   "metadata": {
    "collapsed": false
   }
  },
  {
   "cell_type": "code",
   "execution_count": 39,
   "outputs": [],
   "source": [
    "X = to_design_matrix(Xt)\n",
    "\n",
    "beta_hat = np.linalg.pinv(X.T @ X) @ X.T @ yt"
   ],
   "metadata": {
    "collapsed": false
   }
  },
  {
   "cell_type": "code",
   "execution_count": 40,
   "outputs": [
    {
     "data": {
      "text/plain": "array([-8.49222821,  2.4822138 ,  2.95430727,  4.64953914, -5.47160051])"
     },
     "execution_count": 40,
     "metadata": {},
     "output_type": "execute_result"
    }
   ],
   "source": [
    "beta_hat"
   ],
   "metadata": {
    "collapsed": false
   }
  },
  {
   "cell_type": "markdown",
   "source": [
    "#### b)\n",
    "Repeat a) but this time with LinearRegression from sklearn.linear_model"
   ],
   "metadata": {
    "collapsed": false
   }
  },
  {
   "cell_type": "code",
   "execution_count": 41,
   "outputs": [
    {
     "data": {
      "text/plain": "LinearRegression()",
      "text/html": "<style>#sk-container-id-2 {color: black;background-color: white;}#sk-container-id-2 pre{padding: 0;}#sk-container-id-2 div.sk-toggleable {background-color: white;}#sk-container-id-2 label.sk-toggleable__label {cursor: pointer;display: block;width: 100%;margin-bottom: 0;padding: 0.3em;box-sizing: border-box;text-align: center;}#sk-container-id-2 label.sk-toggleable__label-arrow:before {content: \"▸\";float: left;margin-right: 0.25em;color: #696969;}#sk-container-id-2 label.sk-toggleable__label-arrow:hover:before {color: black;}#sk-container-id-2 div.sk-estimator:hover label.sk-toggleable__label-arrow:before {color: black;}#sk-container-id-2 div.sk-toggleable__content {max-height: 0;max-width: 0;overflow: hidden;text-align: left;background-color: #f0f8ff;}#sk-container-id-2 div.sk-toggleable__content pre {margin: 0.2em;color: black;border-radius: 0.25em;background-color: #f0f8ff;}#sk-container-id-2 input.sk-toggleable__control:checked~div.sk-toggleable__content {max-height: 200px;max-width: 100%;overflow: auto;}#sk-container-id-2 input.sk-toggleable__control:checked~label.sk-toggleable__label-arrow:before {content: \"▾\";}#sk-container-id-2 div.sk-estimator input.sk-toggleable__control:checked~label.sk-toggleable__label {background-color: #d4ebff;}#sk-container-id-2 div.sk-label input.sk-toggleable__control:checked~label.sk-toggleable__label {background-color: #d4ebff;}#sk-container-id-2 input.sk-hidden--visually {border: 0;clip: rect(1px 1px 1px 1px);clip: rect(1px, 1px, 1px, 1px);height: 1px;margin: -1px;overflow: hidden;padding: 0;position: absolute;width: 1px;}#sk-container-id-2 div.sk-estimator {font-family: monospace;background-color: #f0f8ff;border: 1px dotted black;border-radius: 0.25em;box-sizing: border-box;margin-bottom: 0.5em;}#sk-container-id-2 div.sk-estimator:hover {background-color: #d4ebff;}#sk-container-id-2 div.sk-parallel-item::after {content: \"\";width: 100%;border-bottom: 1px solid gray;flex-grow: 1;}#sk-container-id-2 div.sk-label:hover label.sk-toggleable__label {background-color: #d4ebff;}#sk-container-id-2 div.sk-serial::before {content: \"\";position: absolute;border-left: 1px solid gray;box-sizing: border-box;top: 0;bottom: 0;left: 50%;z-index: 0;}#sk-container-id-2 div.sk-serial {display: flex;flex-direction: column;align-items: center;background-color: white;padding-right: 0.2em;padding-left: 0.2em;position: relative;}#sk-container-id-2 div.sk-item {position: relative;z-index: 1;}#sk-container-id-2 div.sk-parallel {display: flex;align-items: stretch;justify-content: center;background-color: white;position: relative;}#sk-container-id-2 div.sk-item::before, #sk-container-id-2 div.sk-parallel-item::before {content: \"\";position: absolute;border-left: 1px solid gray;box-sizing: border-box;top: 0;bottom: 0;left: 50%;z-index: -1;}#sk-container-id-2 div.sk-parallel-item {display: flex;flex-direction: column;z-index: 1;position: relative;background-color: white;}#sk-container-id-2 div.sk-parallel-item:first-child::after {align-self: flex-end;width: 50%;}#sk-container-id-2 div.sk-parallel-item:last-child::after {align-self: flex-start;width: 50%;}#sk-container-id-2 div.sk-parallel-item:only-child::after {width: 0;}#sk-container-id-2 div.sk-dashed-wrapped {border: 1px dashed gray;margin: 0 0.4em 0.5em 0.4em;box-sizing: border-box;padding-bottom: 0.4em;background-color: white;}#sk-container-id-2 div.sk-label label {font-family: monospace;font-weight: bold;display: inline-block;line-height: 1.2em;}#sk-container-id-2 div.sk-label-container {text-align: center;}#sk-container-id-2 div.sk-container {/* jupyter's `normalize.less` sets `[hidden] { display: none; }` but bootstrap.min.css set `[hidden] { display: none !important; }` so we also need the `!important` here to be able to override the default hidden behavior on the sphinx rendered scikit-learn.org. See: https://github.com/scikit-learn/scikit-learn/issues/21755 */display: inline-block !important;position: relative;}#sk-container-id-2 div.sk-text-repr-fallback {display: none;}</style><div id=\"sk-container-id-2\" class=\"sk-top-container\"><div class=\"sk-text-repr-fallback\"><pre>LinearRegression()</pre><b>In a Jupyter environment, please rerun this cell to show the HTML representation or trust the notebook. <br />On GitHub, the HTML representation is unable to render, please try loading this page with nbviewer.org.</b></div><div class=\"sk-container\" hidden><div class=\"sk-item\"><div class=\"sk-estimator sk-toggleable\"><input class=\"sk-toggleable__control sk-hidden--visually\" id=\"sk-estimator-id-2\" type=\"checkbox\" checked><label for=\"sk-estimator-id-2\" class=\"sk-toggleable__label sk-toggleable__label-arrow\">LinearRegression</label><div class=\"sk-toggleable__content\"><pre>LinearRegression()</pre></div></div></div></div></div>"
     },
     "execution_count": 41,
     "metadata": {},
     "output_type": "execute_result"
    }
   ],
   "source": [
    "from sklearn.linear_model import LinearRegression\n",
    "\n",
    "lin_model = LinearRegression()\n",
    "lin_model.fit(Xt, yt)"
   ],
   "metadata": {
    "collapsed": false
   }
  },
  {
   "cell_type": "code",
   "execution_count": 42,
   "outputs": [
    {
     "data": {
      "text/plain": "-8.492233"
     },
     "execution_count": 42,
     "metadata": {},
     "output_type": "execute_result"
    }
   ],
   "source": [
    "lin_model.intercept_"
   ],
   "metadata": {
    "collapsed": false
   }
  },
  {
   "cell_type": "code",
   "execution_count": 43,
   "outputs": [
    {
     "data": {
      "text/plain": "array([ 2.4822135,  2.9543087,  4.649542 , -5.471604 ], dtype=float32)"
     },
     "execution_count": 43,
     "metadata": {},
     "output_type": "execute_result"
    }
   ],
   "source": [
    "lin_model.coef_"
   ],
   "metadata": {
    "collapsed": false
   }
  },
  {
   "cell_type": "markdown",
   "source": [
    "#### c)\n",
    "Determine the Root Mean Square Error (RMSE) and the average negative log-likelihood (NLL) on the testset. For NLL we assume that the conditional probability distrubution (CPD) is given by the density of a Gaussian with constant variance . Estimate using the variance of the residuals. Use the variance estimation with 1/N."
   ],
   "metadata": {
    "collapsed": false
   }
  },
  {
   "cell_type": "code",
   "execution_count": 44,
   "outputs": [],
   "source": [
    "y_hat = to_design_matrix(Xte) @ beta_hat"
   ],
   "metadata": {
    "collapsed": false
   }
  },
  {
   "cell_type": "markdown",
   "source": [
    "##### RMSE"
   ],
   "metadata": {
    "collapsed": false
   }
  },
  {
   "cell_type": "code",
   "execution_count": 45,
   "outputs": [],
   "source": [
    "def rmse(y_true, y_hat):\n",
    "    return np.sqrt(\n",
    "        np.mean((y_true - y_hat) ** 2)\n",
    "    )"
   ],
   "metadata": {
    "collapsed": false
   }
  },
  {
   "cell_type": "code",
   "execution_count": 46,
   "outputs": [
    {
     "data": {
      "text/plain": "8.588126386734233"
     },
     "execution_count": 46,
     "metadata": {},
     "output_type": "execute_result"
    }
   ],
   "source": [
    "rmse(yte, y_hat)"
   ],
   "metadata": {
    "collapsed": false
   }
  },
  {
   "cell_type": "markdown",
   "source": [
    "##### NLL"
   ],
   "metadata": {
    "collapsed": false
   }
  },
  {
   "cell_type": "code",
   "execution_count": 47,
   "outputs": [],
   "source": [
    "from scipy.stats import norm\n",
    "\n",
    "\n",
    "def nll(y_true, y_hat):\n",
    "    resid = y_true - y_hat\n",
    "    mean_resid = np.mean(resid)\n",
    "    var_resid = np.mean((mean_resid - resid) ** 2)\n",
    "    std_resid = np.sqrt(var_resid)\n",
    "\n",
    "    likelihoods = np.empty_like(y_hat)\n",
    "\n",
    "    for idx, fitted_value in enumerate(y_hat):\n",
    "        gaussian = norm(loc=fitted_value, scale=std_resid)\n",
    "        likelihoods[idx] = gaussian.pdf(y_true[idx])\n",
    "    return - np.mean(np.log(likelihoods)), std_resid"
   ],
   "metadata": {
    "collapsed": false
   }
  },
  {
   "cell_type": "code",
   "execution_count": 48,
   "outputs": [],
   "source": [
    "neg_log_like, std = nll(yte, y_hat)"
   ],
   "metadata": {
    "collapsed": false
   }
  },
  {
   "cell_type": "code",
   "execution_count": 49,
   "outputs": [
    {
     "data": {
      "text/plain": "3.569322638168202"
     },
     "execution_count": 49,
     "metadata": {},
     "output_type": "execute_result"
    }
   ],
   "source": [
    "neg_log_like"
   ],
   "metadata": {
    "collapsed": false
   }
  },
  {
   "cell_type": "markdown",
   "source": [
    "#### d)\n",
    "For the testset: plot the predicted mean number of fish caught ($\\mu$) against observed number of fish caught. Further, include the 2.5 and 97.5 percentile of $p(y|x)$, the conditional predictive distribution (CPD) of for a given conditional predictive distribution (CPD) of y for a given x.\n",
    "Why is a Gaussian not ideal for that kind of data?\n",
    "\n",
    "Hint: For the Gaussian the 2.5% and the 97.5% percentile is approximately given by $\\mu \\pm 1.96 * \\sigma$"
   ],
   "metadata": {
    "collapsed": false
   }
  },
  {
   "cell_type": "code",
   "execution_count": 50,
   "outputs": [
    {
     "data": {
      "text/plain": "<Figure size 640x480 with 1 Axes>",
      "image/png": "[encoded data removed]"
     },
     "metadata": {},
     "output_type": "display_data"
    }
   ],
   "source": [
    "import seaborn as sns\n",
    "\n",
    "lower_percentile = y_hat - 1.96 * std\n",
    "upper_percentile = y_hat + 1.96 * std\n",
    "\n",
    "sns.scatterplot(x=y_hat, y=yte, color=\"tab:blue\", label=\"Actual Observations\")\n",
    "sns.scatterplot(x=y_hat, y=lower_percentile, color=\"tab:green\", label=\"2.5% Percentile\")\n",
    "sns.scatterplot(x=y_hat, y=upper_percentile, color=\"tab:red\", label=\"97.5% Percentile\")\n",
    "\n",
    "plt.vlines(0, -20, 60, colors=\"gray\")\n",
    "\n",
    "plt.legend()\n",
    "plt.xlabel(\"Predicted Mean Number of Fish\")\n",
    "plt.ylabel(\"Observed Amount of caught Fish\");"
   ],
   "metadata": {
    "collapsed": false
   }
  },
  {
   "cell_type": "markdown",
   "source": [
    "The Assumption of a gaussian distributed error is not sensible for count-data"
   ],
   "metadata": {
    "collapsed": false
   }
  },
  {
   "cell_type": "markdown",
   "source": [
    "#### e)\n",
    "This data is count data. Count data has only positive values and also the distribution is discrete. You cannot catch 0.5 fish and that the CPD has probability density > 0 on negative number of fish is wrong too. A Gaussian as a CPD is therefore not ideal.\n",
    "\n",
    "Now use a Poissonian as CPD. If we assume a Poissonian then the probability to catch fish is given by:\n",
    "$$p(k) = exp(-\\mu)\\frac{\\mu^{k}}{k!}$$\n",
    "and the NLL is thus by:\n",
    "$$log(p(k)) = -\\mu + k * log(\\mu) - log(k!)$$\n",
    "with $\\mu$ being the expectation. In our case the average number of fish expected.\n",
    "\n",
    "In the case of the probabilistic interpretation of the linear regression, $y_{i}$ for a given $x_{i}$ is distributed like a Gaussian. The parameter $\\mu_{i}$ from $N(\\mu_{i}, \\sigma^{2})$ has been determined from $x_{i}$ via $\\mu_{i} = \\beta ^{T} * x_{i}$ by minimizing the NLL.\n",
    "\n",
    "A small additional detail: For the Poissonian case, $\\mu_{i}$ needs to be positive. We therefore do not use $\\beta^{T} * x_{i}$ directly but \"pipe it through\" an exponential first to make it positive and thus link $\\mu_{i} = exp(\\beta^{T} * x_{i})$ to the data.\n",
    "\n",
    "Use a gradient descent approach on the NLL to find the solution for the parameters. Calculate the RMSE and the NLL on the test set and compare with c).\n",
    "\n",
    "Hint: On the trainingset for the parameter values (1,1,1,1,1) the NLL should be approx 1508 and the gradient (1518.61, 1403.99, 1171.02, 5701.91, 3258.7). For the NLL a good learning rate would be 0.001 and training should be done for at least 5000 epochs."
   ],
   "metadata": {
    "collapsed": false
   }
  },
  {
   "cell_type": "code",
   "execution_count": 9,
   "outputs": [],
   "source": [
    "def poisson_nll(y_true, y_hat):\n",
    "    y_hat = tf.math.exp(y_hat)\n",
    "    # exp(lgamma(n + 1)) == factorial(n)\n",
    "    factorials = tf.math.exp(tf.math.lgamma(y_true + 1))\n",
    "    likelihoods = - y_hat + y_true * tf.math.log(y_hat) - tf.math.log(factorials)\n",
    "\n",
    "    return - tf.reduce_mean(likelihoods)"
   ],
   "metadata": {
    "collapsed": false
   }
  },
  {
   "cell_type": "code",
   "execution_count": 10,
   "outputs": [
    {
     "data": {
      "text/plain": "<tf.Tensor: shape=(), dtype=float64, numpy=1510.1271602262084>"
     },
     "execution_count": 10,
     "metadata": {},
     "output_type": "execute_result"
    }
   ],
   "source": [
    "x_train = tf.Variable(to_design_matrix(Xt), dtype=\"float64\")\n",
    "y_train = tf.Variable(yt, dtype=\"float64\")\n",
    "\n",
    "x_test = tf.Variable(to_design_matrix(Xte), dtype=\"float64\")\n",
    "y_test = tf.Variable(yte, dtype=\"float64\")\n",
    "\n",
    "beta = tf.Variable(np.ones((5, 1)), dtype=\"float64\")\n",
    "\n",
    "y_hat = tf.matmul(x_train, beta)\n",
    "\n",
    "poisson_nll(y_train, y_hat)"
   ],
   "metadata": {
    "collapsed": false
   }
  },
  {
   "cell_type": "code",
   "execution_count": 51,
   "outputs": [
    {
     "name": "stdout",
     "output_type": "stream",
     "text": [
      "Parameters at Iteration 0: [[1. 1. 1. 1. 1.]]\n",
      "Gradients at Iteration 0: [[1518.61304305 1404.40621631 1171.65947951 5704.75054653 3256.95861729]]\n",
      "Negative Log-Likelihood at Iteration 0: 1510.13\n",
      "-------------------------------------------------------\n",
      "Parameters at Iteration 500: [[  2.55531901   1.26987705  -0.67172504 -13.52422303 -19.76686392]]\n",
      "Gradients at Iteration 500: [[-3.35499056 -2.86851586 -2.01299564 -8.52169056 -2.365275  ]]\n",
      "Negative Log-Likelihood at Iteration 500: 158.42\n",
      "-------------------------------------------------------\n",
      "Parameters at Iteration 1000: [[ 1.66301006 -0.34169445 -0.22728085  0.29236919 -7.94082109]]\n",
      "Gradients at Iteration 1000: [[ 0.19672716  0.01818675 -0.11353175 -0.05216082 -2.36447067]]\n",
      "Negative Log-Likelihood at Iteration 1000: 22.98\n",
      "-------------------------------------------------------\n",
      "Parameters at Iteration 1500: [[ 1.25912011 -0.1388654   0.00922809  0.03966332 -0.05782597]]\n",
      "Gradients at Iteration 1500: [[-0.00787926 -0.06470824 -0.01198211  0.04720533 -0.07811584]]\n",
      "Negative Log-Likelihood at Iteration 1500: 6.58\n",
      "-------------------------------------------------------\n",
      "Parameters at Iteration 2000: [[ 1.24340772e+00 -2.58964948e-02 -5.19722313e-04 -3.68954604e-03\n",
      "   6.28971854e-04]]\n",
      "Gradients at Iteration 2000: [[ 0.00545239 -0.00620773  0.0011725  -0.00019781 -0.00025948]]\n",
      "Negative Log-Likelihood at Iteration 2000: 6.58\n",
      "-------------------------------------------------------\n",
      "Parameters at Iteration 2500: [[ 1.22406680e+00 -9.06210252e-03 -1.39296539e-03 -1.84011594e-03\n",
      "   5.30713748e-04]]\n",
      "Gradients at Iteration 2500: [[ 2.47909100e-03 -1.74912826e-03 -1.76506882e-04 -3.18003681e-04\n",
      "   8.23866655e-05]]\n",
      "Negative Log-Likelihood at Iteration 2500: 6.58\n",
      "-------------------------------------------------------\n",
      "Parameters at Iteration 3000: [[ 1.21589058e+00 -3.53402534e-03 -6.24230734e-04 -7.49427788e-04\n",
      "   2.24042564e-04]]\n",
      "Gradients at Iteration 3000: [[ 1.00067615e-03 -6.55534027e-04 -1.10560751e-04 -1.37066263e-04\n",
      "   4.05199939e-05]]\n",
      "Negative Log-Likelihood at Iteration 3000: 6.58\n",
      "-------------------------------------------------------\n",
      "Parameters at Iteration 3500: [[ 1.21261617e+00 -1.40196183e-03 -2.52068581e-04 -2.98859194e-04\n",
      "   8.97073431e-05]]\n",
      "Gradients at Iteration 3500: [[ 3.98600713e-04 -2.58425758e-04 -4.62095013e-05 -5.50165727e-05\n",
      "   1.64976248e-05]]\n",
      "Negative Log-Likelihood at Iteration 3500: 6.58\n",
      "-------------------------------------------------------\n",
      "Parameters at Iteration 4000: [[ 1.21131292e+00 -5.57636377e-04 -1.00451953e-04 -1.18909110e-04\n",
      "   3.57003625e-05]]\n",
      "Gradients at Iteration 4000: [[ 1.58576706e-04 -1.02688253e-04 -1.84918982e-05 -2.18995106e-05\n",
      "   6.57560400e-06]]\n",
      "Negative Log-Likelihood at Iteration 4000: 6.58\n",
      "-------------------------------------------------------\n",
      "Parameters at Iteration 4500: [[ 1.21079443e+00 -2.21896401e-04 -3.99719012e-05 -4.73099770e-05\n",
      "   1.42023192e-05]]\n",
      "Gradients at Iteration 4500: [[ 6.30928680e-05 -4.08551934e-05 -7.36059385e-06 -8.71186041e-06\n",
      "   2.61557407e-06]]\n",
      "Negative Log-Likelihood at Iteration 4500: 6.58\n",
      "-------------------------------------------------------\n",
      "Parameters at Iteration 4999: [[ 1.21058838e+00 -8.84672139e-05 -1.59344310e-05 -1.88600690e-05\n",
      "   5.66130135e-06]]\n",
      "Gradients at Iteration 4999: [[ 2.51521660e-05 -1.62879023e-05 -2.93400955e-06 -3.47261511e-06\n",
      "   1.04244757e-06]]\n",
      "Negative Log-Likelihood at Iteration 4999: 6.58\n",
      "-------------------------------------------------------\n"
     ]
    }
   ],
   "source": [
    "beta = tf.Variable(np.ones((5, 1)), dtype=\"float64\")\n",
    "\n",
    "for i in range(5000):\n",
    "    with tf.GradientTape() as tape:\n",
    "        y_hat = tf.matmul(x_train, beta)\n",
    "        loss = poisson_nll(y_train, y_hat)\n",
    "        gradients = tape.gradient(loss, beta)\n",
    "        if i % 500 == 0 or i == 4999:\n",
    "            print(f\"Parameters at Iteration {i}: {beta.numpy().T}\")\n",
    "            print(f\"Gradients at Iteration {i}: {gradients.numpy().T}\")\n",
    "            print(f\"Negative Log-Likelihood at Iteration {i}: {loss:.2f}\")\n",
    "            print(\"-------------------------------------------------------\")\n",
    "        beta = tf.Variable(beta - 0.001 * gradients)"
   ],
   "metadata": {
    "collapsed": false
   }
  },
  {
   "cell_type": "code",
   "execution_count": 13,
   "outputs": [],
   "source": [
    "poisson_beta_hat = beta.numpy()\n",
    "y_hat = np.exp(to_design_matrix(Xte) @ poisson_beta_hat)"
   ],
   "metadata": {
    "collapsed": false
   }
  },
  {
   "cell_type": "code",
   "execution_count": 35,
   "outputs": [
    {
     "name": "stdout",
     "output_type": "stream",
     "text": [
      "RMSE with Poissonian Error Distribution: 10.2877\n"
     ]
    }
   ],
   "source": [
    "print(f\"RMSE with Poissonian Error Distribution: {rmse(yte, y_hat):.4f}\")"
   ],
   "metadata": {
    "collapsed": false
   }
  },
  {
   "cell_type": "code",
   "execution_count": 34,
   "outputs": [
    {
     "name": "stdout",
     "output_type": "stream",
     "text": [
      "NLL with Poissonian Error Distribution: 6.6507\n"
     ]
    }
   ],
   "source": [
    "print(f\"NLL with Poissonian Error Distribution: {poisson_nll(y_test, y_hat):.4f}\")"
   ],
   "metadata": {
    "collapsed": false
   }
  },
  {
   "cell_type": "markdown",
   "source": [
    "#### f)\n",
    "Do the same plot as in d) but this time with a Poisson CPD. Hint you can use scipy.stats.poisson to calculate the percentiles."
   ],
   "metadata": {
    "collapsed": false
   }
  },
  {
   "cell_type": "code",
   "execution_count": 23,
   "outputs": [
    {
     "data": {
      "text/plain": "<Figure size 640x480 with 1 Axes>",
      "image/png": "[encoded data removed]"
     },
     "metadata": {},
     "output_type": "display_data"
    }
   ],
   "source": [
    "from scipy.stats import poisson\n",
    "\n",
    "lower_percentile_pois = []\n",
    "upper_percentile_pois = []\n",
    "\n",
    "for mu in y_hat:\n",
    "    poisson_dist = poisson(mu)\n",
    "    lower_percentile_pois.append(poisson_dist.ppf(0.025)[0])\n",
    "    upper_percentile_pois.append(poisson_dist.ppf(0.975)[0])\n",
    "\n",
    "sns.scatterplot(x=y_hat[:, 0], y=yte, color=\"tab:blue\", label=\"Actual Observations\")\n",
    "sns.scatterplot(x=y_hat[:, 0], y=lower_percentile_pois, color=\"tab:green\", label=\"2.25% Percentile\")\n",
    "sns.scatterplot(x=y_hat[:, 0], y=upper_percentile_pois, color=\"tab:red\", label=\"97.5% Percentile\")\n",
    "\n",
    "plt.legend()\n",
    "plt.xlabel(\"Predicted Mean Number of Fish\")\n",
    "plt.show()"
   ],
   "metadata": {
    "collapsed": false
   }
  }
 ],
 "metadata": {
  "kernelspec": {
   "name": "tf_env",
   "language": "python",
   "display_name": "tf_env"
  },
  "language_info": {
   "codemirror_mode": {
    "name": "ipython",
    "version": 2
   },
   "file_extension": ".py",
   "mimetype": "text/x-python",
   "name": "python",
   "nbconvert_exporter": "python",
   "pygments_lexer": "ipython2",
   "version": "2.7.6"
  }
 },
 "nbformat": 4,
 "nbformat_minor": 0
}
