{
 "cells": [
  {
   "cell_type": "markdown",
   "source": [
    "\n",
    "### 1. Linear Regression on Fish Data\n",
    "\n",
    "The following data-set contains the number of fish groups of camper caught in a state park (taken from https://stats.idre.ucla.edu/r/dae/zip/). Your task here is to predict the number of fish caught by a fishing party from the following information:\n",
    "\n",
    "- how many people are in the group\n",
    "- the number children in the group\n",
    "- the use of live bait\n",
    "- whether the group came with a camper to the park.\n",
    "\n",
    "We have a small data set, of 250 groups, which visited a state park and provided. For comparison the data set is already split into a training set and testset.\n"
   ],
   "metadata": {
    "collapsed": false
   }
  },
  {
   "cell_type": "code",
   "execution_count": 1,
   "outputs": [],
   "source": [
    "import matplotlib.pyplot as plt\n",
    "import numpy as np\n",
    "import pandas as pd\n",
    "\n",
    "import tensorflow as tf"
   ],
   "metadata": {
    "collapsed": false
   }
  },
  {
   "cell_type": "code",
   "execution_count": 2,
   "outputs": [
    {
     "data": {
      "text/plain": "     0    1    2    3\n0  1.0  0.0  4.0  0.0\n1  1.0  1.0  2.0  0.0",
      "text/html": "<div>\n<style scoped>\n    .dataframe tbody tr th:only-of-type {\n        vertical-align: middle;\n    }\n\n    .dataframe tbody tr th {\n        vertical-align: top;\n    }\n\n    .dataframe thead th {\n        text-align: right;\n    }\n</style>\n<table border=\"1\" class=\"dataframe\">\n  <thead>\n    <tr style=\"text-align: right;\">\n      <th></th>\n      <th>0</th>\n      <th>1</th>\n      <th>2</th>\n      <th>3</th>\n    </tr>\n  </thead>\n  <tbody>\n    <tr>\n      <th>0</th>\n      <td>1.0</td>\n      <td>0.0</td>\n      <td>4.0</td>\n      <td>0.0</td>\n    </tr>\n    <tr>\n      <th>1</th>\n      <td>1.0</td>\n      <td>1.0</td>\n      <td>2.0</td>\n      <td>0.0</td>\n    </tr>\n  </tbody>\n</table>\n</div>"
     },
     "execution_count": 2,
     "metadata": {},
     "output_type": "execute_result"
    }
   ],
   "source": [
    "\n",
    "# The Fish Data Set\n",
    "# See example 2 from https://stats.idre.ucla.edu/r/dae/zip/\n",
    "#\"nofish\",\"livebait\",\"camper\",\"persons\",\"child\",\"xb\",\"zg\",\"count\"\n",
    "import os\n",
    "from urllib.request import urlretrieve\n",
    "\n",
    "if not os.path.isfile('fishing.npz'):\n",
    "    print(\"Downloading\")\n",
    "    urlretrieve('http://www-home.htwg-konstanz.de/~oduerr/data/fishing.npz', filename='fishing.npz')\n",
    "d = np.load('fishing.npz')\n",
    "Xt = d['Xt']  #\"livebait\",\"camper\",\"persons\",\"child\"\n",
    "Xte = d['Xte']\n",
    "yt = d['yt']\n",
    "yte = d['yte']\n",
    "pd.DataFrame(Xt[0:2])\n",
    "\n"
   ],
   "metadata": {
    "collapsed": false
   }
  },
  {
   "cell_type": "markdown",
   "source": [
    "#### a)\n",
    "Do a linear regression by creating a design matrix with the intercept term and use the fomulae given in the lecture to determine the coefficients on the training set."
   ],
   "metadata": {
    "collapsed": false
   }
  },
  {
   "cell_type": "code",
   "execution_count": 3,
   "outputs": [],
   "source": [
    "def to_design_matrix(X: np.ndarray):\n",
    "    # X = X.copy()\n",
    "    n = len(X)\n",
    "    return np.hstack((np.ones(n)[:, np.newaxis], X))"
   ],
   "metadata": {
    "collapsed": false
   }
  },
  {
   "cell_type": "code",
   "execution_count": 4,
   "outputs": [],
   "source": [
    "X = to_design_matrix(Xt)\n",
    "\n",
    "beta_hat = np.linalg.pinv(X.T @ X) @ X.T @ yt"
   ],
   "metadata": {
    "collapsed": false
   }
  },
  {
   "cell_type": "code",
   "execution_count": 5,
   "outputs": [
    {
     "data": {
      "text/plain": "array([-8.49222821,  2.4822138 ,  2.95430727,  4.64953914, -5.47160051])"
     },
     "execution_count": 5,
     "metadata": {},
     "output_type": "execute_result"
    }
   ],
   "source": [
    "beta_hat"
   ],
   "metadata": {
    "collapsed": false
   }
  },
  {
   "cell_type": "markdown",
   "source": [
    "#### b)\n",
    "Repeat a) but this time with LinearRegression from sklearn.linear_model"
   ],
   "metadata": {
    "collapsed": false
   }
  },
  {
   "cell_type": "code",
   "execution_count": 6,
   "outputs": [
    {
     "name": "stdout",
     "output_type": "stream",
     "text": [
      "Intercept: -8.492233276367188\n",
      "Slope: [ 2.4822135  2.9543087  4.649542  -5.471604 ]\n"
     ]
    }
   ],
   "source": [
    "from sklearn.linear_model import LinearRegression\n",
    "\n",
    "lin_model = LinearRegression()\n",
    "lin_model.fit(Xt, yt)\n",
    "\n",
    "print(f\"Intercept: {lin_model.intercept_}\")\n",
    "print(f\"Slope: {lin_model.coef_}\")"
   ],
   "metadata": {
    "collapsed": false
   }
  },
  {
   "cell_type": "markdown",
   "source": [
    "#### c)\n",
    "Determine the Root Mean Square Error (RMSE) and the average negative log-likelihood (NLL) on the testset. For NLL we assume that the conditional probability distribution (CPD) is given by the density of a Gaussian with constant variance . Estimate using the variance of the residuals. Use the variance estimation with 1/N."
   ],
   "metadata": {
    "collapsed": false
   }
  },
  {
   "cell_type": "code",
   "execution_count": 7,
   "outputs": [],
   "source": [
    "y_hat = to_design_matrix(Xte) @ beta_hat"
   ],
   "metadata": {
    "collapsed": false
   }
  },
  {
   "cell_type": "markdown",
   "source": [
    "##### RMSE"
   ],
   "metadata": {
    "collapsed": false
   }
  },
  {
   "cell_type": "code",
   "execution_count": 8,
   "outputs": [],
   "source": [
    "def rmse(y_true, y_hat):\n",
    "    return np.sqrt(np.mean((y_true - y_hat) ** 2))"
   ],
   "metadata": {
    "collapsed": false
   }
  },
  {
   "cell_type": "code",
   "execution_count": 9,
   "outputs": [
    {
     "data": {
      "text/plain": "8.588126386734233"
     },
     "execution_count": 9,
     "metadata": {},
     "output_type": "execute_result"
    }
   ],
   "source": [
    "rmse(yte, y_hat)"
   ],
   "metadata": {
    "collapsed": false
   }
  },
  {
   "cell_type": "markdown",
   "source": [
    "##### NLL"
   ],
   "metadata": {
    "collapsed": false
   }
  },
  {
   "cell_type": "code",
   "execution_count": 10,
   "outputs": [],
   "source": [
    "from scipy.stats import norm\n",
    "\n",
    "\n",
    "def nll(y_true, y_pred):\n",
    "    resid = y_true - y_pred\n",
    "    mean_resid = np.mean(resid)\n",
    "    var_resid = np.mean((mean_resid - resid) ** 2)\n",
    "    std_resid = np.sqrt(var_resid)\n",
    "\n",
    "    likelihoods = np.empty_like(y_pred)\n",
    "\n",
    "    for idx, fitted_value in enumerate(y_pred):\n",
    "        gaussian = norm(loc=fitted_value, scale=std_resid)\n",
    "        likelihoods[idx] = gaussian.pdf(y_true[idx])\n",
    "    return - np.mean(np.log(likelihoods)), std_resid"
   ],
   "metadata": {
    "collapsed": false
   }
  },
  {
   "cell_type": "code",
   "execution_count": 11,
   "outputs": [],
   "source": [
    "neg_log_like, std = nll(yte, y_hat)"
   ],
   "metadata": {
    "collapsed": false
   }
  },
  {
   "cell_type": "code",
   "execution_count": 12,
   "outputs": [
    {
     "data": {
      "text/plain": "3.569322638168202"
     },
     "execution_count": 12,
     "metadata": {},
     "output_type": "execute_result"
    }
   ],
   "source": [
    "neg_log_like"
   ],
   "metadata": {
    "collapsed": false
   }
  },
  {
   "cell_type": "markdown",
   "source": [
    "#### d)\n",
    "For the testset: plot the predicted mean number of fish caught ($\\mu$) against observed number of fish caught. Further, include the 2.5 and 97.5 percentile of $p(y|x)$, the conditional predictive distribution (CPD) of for a given conditional predictive distribution (CPD) of y for a given x.\n",
    "Why is a Gaussian not ideal for that kind of data?\n",
    "\n",
    "Hint: For the Gaussian the 2.5% and the 97.5% percentile is approximately given by $\\mu \\pm 1.96 * \\sigma$"
   ],
   "metadata": {
    "collapsed": false
   }
  },
  {
   "cell_type": "code",
   "execution_count": 13,
   "outputs": [
    {
     "data": {
      "text/plain": "<Figure size 640x480 with 1 Axes>",
      "image/png": "[encoded data removed]"
     },
     "metadata": {},
     "output_type": "display_data"
    }
   ],
   "source": [
    "import seaborn as sns\n",
    "\n",
    "lower_percentile = y_hat - 1.96 * std\n",
    "upper_percentile = y_hat + 1.96 * std\n",
    "\n",
    "sns.scatterplot(x=y_hat, y=yte, color=\"tab:blue\", label=\"Actual Observations\")\n",
    "sns.scatterplot(x=y_hat, y=lower_percentile, color=\"tab:green\", label=\"2.5% Percentile\")\n",
    "sns.scatterplot(x=y_hat, y=upper_percentile, color=\"tab:red\", label=\"97.5% Percentile\")\n",
    "\n",
    "plt.vlines(0, -20, 60, colors=\"gray\")\n",
    "\n",
    "plt.legend()\n",
    "plt.xlabel(\"Predicted Mean Number of Fish\")\n",
    "plt.ylabel(\"Observed Amount of caught Fish\");"
   ],
   "metadata": {
    "collapsed": false
   }
  },
  {
   "cell_type": "markdown",
   "source": [
    "The Assumption of a gaussian distributed error is not sensible for count-data"
   ],
   "metadata": {
    "collapsed": false
   }
  },
  {
   "cell_type": "markdown",
   "source": [
    "#### e)\n",
    "This data is count data. Count data has only positive values and also the distribution is discrete. You cannot catch 0.5 fish and that the CPD has probability density > 0 on negative number of fish is wrong too. A Gaussian as a CPD is therefore not ideal.\n",
    "\n",
    "Now use a Poissonian as CPD. If we assume a Poissonian then the probability to catch fish is given by:\n",
    "$$p(k) = exp(-\\mu)\\frac{\\mu^{k}}{k!}$$\n",
    "and the NLL is thus by:\n",
    "$$log(p(k)) = -\\mu + k * log(\\mu) - log(k!)$$\n",
    "with $\\mu$ being the expectation. In our case the average number of fish expected.\n",
    "\n",
    "In the case of the probabilistic interpretation of the linear regression, $y_{i}$ for a given $x_{i}$ is distributed like a Gaussian. The parameter $\\mu_{i}$ from $N(\\mu_{i}, \\sigma^{2})$ has been determined from $x_{i}$ via $\\mu_{i} = \\beta ^{T} * x_{i}$ by minimizing the NLL.\n",
    "\n",
    "A small additional detail: For the Poissonian case, $\\mu_{i}$ needs to be positive. We therefore do not use $\\beta^{T} * x_{i}$ directly but \"pipe it through\" an exponential first to make it positive and thus link $\\mu_{i} = exp(\\beta^{T} * x_{i})$ to the data.\n",
    "\n",
    "Use a gradient descent approach on the NLL to find the solution for the parameters. Calculate the RMSE and the NLL on the test set and compare with c).\n",
    "\n",
    "Hint: On the trainingset for the parameter values (1,1,1,1,1) the NLL should be approx 1508 and the gradient (1518.61, 1403.99, 1171.02, 5701.91, 3258.7). For the NLL a good learning rate would be 0.001 and training should be done for at least 5000 epochs."
   ],
   "metadata": {
    "collapsed": false
   }
  },
  {
   "cell_type": "code",
   "execution_count": 14,
   "outputs": [],
   "source": [
    "def poisson_nll(y_true, y_hat):\n",
    "    y_hat = tf.math.exp(y_hat)\n",
    "    # exp(lgamma(n + 1)) == factorial(n)\n",
    "    # Da der log von factorials benötigt wird, ist lgamma(n-1) ausreichend/effizienter\n",
    "    factorials = tf.math.lgamma(y_true + 1)\n",
    "    likelihoods = - y_hat + y_true * tf.math.log(y_hat) - factorials\n",
    "\n",
    "    return - tf.reduce_mean(likelihoods)"
   ],
   "metadata": {
    "collapsed": false
   }
  },
  {
   "cell_type": "code",
   "execution_count": 15,
   "outputs": [
    {
     "data": {
      "text/plain": "<tf.Tensor: shape=(), dtype=float64, numpy=1510.1271602262084>"
     },
     "execution_count": 15,
     "metadata": {},
     "output_type": "execute_result"
    }
   ],
   "source": [
    "x_train = tf.Variable(to_design_matrix(Xt), dtype=\"float64\")\n",
    "y_train = tf.Variable(yt, dtype=\"float64\")\n",
    "\n",
    "x_test = tf.Variable(to_design_matrix(Xte), dtype=\"float64\")\n",
    "y_test = tf.Variable(yte, dtype=\"float64\")\n",
    "\n",
    "beta = tf.Variable(np.ones((5, 1)), dtype=\"float64\")\n",
    "\n",
    "y_hat = tf.matmul(x_train, beta)\n",
    "\n",
    "poisson_nll(y_train, y_hat)"
   ],
   "metadata": {
    "collapsed": false
   }
  },
  {
   "cell_type": "code",
   "execution_count": 16,
   "outputs": [
    {
     "name": "stdout",
     "output_type": "stream",
     "text": [
      "Parameters at Iteration 0: [[1. 1. 1. 1. 1.]]\n",
      "Gradients at Iteration 0: [[1518.61304305 1404.40621631 1171.65947951 5704.75054653 3256.95861729]]\n",
      "Negative Log-Likelihood at Iteration 0: 1510.13\n",
      "-------------------------------------------------------\n",
      "Parameters at Iteration 500: [[ 1.01348598  0.89330018  0.72645993 -0.64139242 -1.08651612]]\n",
      "Gradients at Iteration 500: [[-1.31388772 -0.93842484 -0.45975212 -5.3991097  -2.13616412]]\n",
      "Negative Log-Likelihood at Iteration 500: 9.93\n",
      "-------------------------------------------------------\n",
      "Parameters at Iteration 1000: [[ 0.8702186   0.62313661  0.40038854 -0.06892992 -0.41469441]]\n",
      "Gradients at Iteration 1000: [[ 0.2993288   0.50896854  0.54072972 -0.26829292 -0.85442177]]\n",
      "Negative Log-Likelihood at Iteration 1000: 6.99\n",
      "-------------------------------------------------------\n",
      "Parameters at Iteration 1500: [[ 0.785952    0.44586071  0.21575563  0.00340185 -0.14161887]]\n",
      "Gradients at Iteration 1500: [[ 0.07133834  0.23766083  0.24019494 -0.07218474 -0.31029576]]\n",
      "Negative Log-Likelihood at Iteration 1500: 6.66\n",
      "-------------------------------------------------------\n",
      "Parameters at Iteration 2000: [[ 0.77571467  0.35920061  0.13148291  0.02634911 -0.04823171]]\n",
      "Gradients at Iteration 2000: [[-0.01607653  0.12539585  0.1144916  -0.02827299 -0.09928711]]\n",
      "Negative Log-Likelihood at Iteration 2000: 6.61\n",
      "-------------------------------------------------------\n",
      "Parameters at Iteration 2500: [[ 0.79276757  0.30970455  0.08964322  0.03592553 -0.01945307]]\n",
      "Gradients at Iteration 2500: [[-0.0466708   0.07900262  0.05993487 -0.01204416 -0.02880939]]\n",
      "Negative Log-Likelihood at Iteration 2500: 6.60\n",
      "-------------------------------------------------------\n",
      "Parameters at Iteration 3000: [[ 0.81890023  0.27601777  0.06679026  0.03968268 -0.01154247]]\n",
      "Gradients at Iteration 3000: [[-0.05580404  0.05824595  0.03445279 -0.00380798 -0.00713987]]\n",
      "Negative Log-Likelihood at Iteration 3000: 6.60\n",
      "-------------------------------------------------------\n",
      "Parameters at Iteration 3500: [[ 0.84725991  0.24979354  0.05311722  0.04035632 -0.00976943]]\n",
      "Gradients at Iteration 3500: [[-0.0568501   0.04766944  0.02158444  0.00066738 -0.00129505]]\n",
      "Negative Log-Likelihood at Iteration 3500: 6.59\n",
      "-------------------------------------------------------\n",
      "Parameters at Iteration 4000: [[ 0.875255    0.2276457   0.0442336   0.03936549 -0.00948755]]\n",
      "Gradients at Iteration 4000: [[-0.05483005  0.04136409  0.01460347  0.00303991 -0.00020757]]\n",
      "Negative Log-Likelihood at Iteration 4000: 6.59\n",
      "-------------------------------------------------------\n",
      "Parameters at Iteration 4500: [[ 0.90191075  0.20810876  0.03802497  0.03751699 -0.00936997]]\n",
      "Gradients at Iteration 4500: [[-0.05168465  0.03699173  0.01056959  0.00420761 -0.00034044]]\n",
      "Negative Log-Likelihood at Iteration 4500: 6.59\n",
      "-------------------------------------------------------\n",
      "Parameters at Iteration 4999: [[ 0.9268396   0.19052615  0.03341117  0.03527605 -0.0091223 ]]\n",
      "Gradients at Iteration 4999: [[-0.04820168  0.03358713  0.008107    0.00469185 -0.00064933]]\n",
      "Negative Log-Likelihood at Iteration 4999: 6.59\n",
      "-------------------------------------------------------\n"
     ]
    }
   ],
   "source": [
    "beta = tf.Variable(np.ones((5, 1)), dtype=\"float64\")\n",
    "learning_rate = 1e-3\n",
    "for i in range(5000):\n",
    "    with tf.GradientTape() as tape:\n",
    "        y_hat = tf.matmul(x_train, beta)\n",
    "        loss = poisson_nll(y_train, y_hat)\n",
    "        gradients = tape.gradient(loss, beta)\n",
    "        if i % 500 == 0 or i == 4999:\n",
    "            print(f\"Parameters at Iteration {i}: {beta.numpy().T}\")\n",
    "            print(f\"Gradients at Iteration {i}: {gradients.numpy().T}\")\n",
    "            print(f\"Negative Log-Likelihood at Iteration {i}: {loss:.2f}\")\n",
    "            print(\"-------------------------------------------------------\")\n",
    "        beta = tf.Variable(beta - learning_rate * gradients)"
   ],
   "metadata": {
    "collapsed": false
   }
  },
  {
   "cell_type": "code",
   "execution_count": 18,
   "outputs": [],
   "source": [
    "poisson_beta_hat = beta.numpy()\n",
    "y_hat = np.exp(to_design_matrix(Xte) @ poisson_beta_hat)"
   ],
   "metadata": {
    "collapsed": false
   }
  },
  {
   "cell_type": "code",
   "execution_count": 18,
   "outputs": [
    {
     "name": "stdout",
     "output_type": "stream",
     "text": [
      "RMSE with Poissonian Error Distribution: 10.1256\n"
     ]
    }
   ],
   "source": [
    "print(f\"RMSE with Poissonian Error Distribution: {rmse(yte, y_hat):.4f}\")"
   ],
   "metadata": {
    "collapsed": false
   }
  },
  {
   "cell_type": "code",
   "execution_count": 19,
   "outputs": [
    {
     "name": "stdout",
     "output_type": "stream",
     "text": [
      "NLL with Poissonian Error Distribution: 25.0899\n"
     ]
    }
   ],
   "source": [
    "print(f\"NLL with Poissonian Error Distribution: {poisson_nll(y_test, y_hat):.4f}\")"
   ],
   "metadata": {
    "collapsed": false
   }
  },
  {
   "cell_type": "markdown",
   "source": [
    "#### f)\n",
    "Do the same plot as in d) but this time with a Poisson CPD. Hint you can use scipy.stats.poisson to calculate the percentiles."
   ],
   "metadata": {
    "collapsed": false
   }
  },
  {
   "cell_type": "code",
   "execution_count": 19,
   "outputs": [
    {
     "data": {
      "text/plain": "<Figure size 640x480 with 1 Axes>",
      "image/png": "[encoded data removed]"
     },
     "metadata": {},
     "output_type": "display_data"
    }
   ],
   "source": [
    "from scipy.stats import poisson\n",
    "\n",
    "lower_percentile_pois = []\n",
    "upper_percentile_pois = []\n",
    "\n",
    "for mu in y_hat:\n",
    "    poisson_dist = poisson(mu)\n",
    "    lower_percentile_pois.append(poisson_dist.ppf(0.025)[0])\n",
    "    upper_percentile_pois.append(poisson_dist.ppf(0.975)[0])\n",
    "\n",
    "sns.scatterplot(x=y_hat[:, 0], y=yte, color=\"tab:blue\", label=\"Actual Observations\")\n",
    "sns.scatterplot(x=y_hat[:, 0], y=lower_percentile_pois, color=\"tab:green\", label=\"2.25% Percentile\")\n",
    "sns.scatterplot(x=y_hat[:, 0], y=upper_percentile_pois, color=\"tab:red\", label=\"97.5% Percentile\")\n",
    "\n",
    "plt.legend()\n",
    "plt.xlabel(\"Predicted Mean Number of Fish\")\n",
    "plt.ylabel(\"Observed Amount of caught Fish\")\n",
    "plt.show()"
   ],
   "metadata": {
    "collapsed": false
   }
  },
  {
   "cell_type": "code",
   "execution_count": 21,
   "outputs": [],
   "source": [
    "%load_ext version_information"
   ],
   "metadata": {
    "collapsed": false
   }
  },
  {
   "cell_type": "code",
   "execution_count": 22,
   "outputs": [
    {
     "data": {
      "text/plain": "Software versions\nPython 3.10.6 64bit [MSC v.1916 64 bit (AMD64)]\nIPython 8.4.0\nOS Windows 10 10.0.19044 SP0\nnumpy 1.23.3\nmatplotlib 3.5.2\nseaborn 0.12.0\ntensorflow 2.10.0\nSat Nov 12 10:26:47 2022 Mitteleuropäische Zeit",
      "text/html": "<table><tr><th>Software</th><th>Version</th></tr><tr><td>Python</td><td>3.10.6 64bit [MSC v.1916 64 bit (AMD64)]</td></tr><tr><td>IPython</td><td>8.4.0</td></tr><tr><td>OS</td><td>Windows 10 10.0.19044 SP0</td></tr><tr><td>numpy</td><td>1.23.3</td></tr><tr><td>matplotlib</td><td>3.5.2</td></tr><tr><td>seaborn</td><td>0.12.0</td></tr><tr><td>tensorflow</td><td>2.10.0</td></tr><tr><td colspan='2'>Sat Nov 12 10:26:47 2022 Mitteleuropäische Zeit</td></tr></table>",
      "text/latex": "\\begin{tabular}{|l|l|}\\hline\n{\\bf Software} & {\\bf Version} \\\\ \\hline\\hline\nPython & 3.10.6 64bit [MSC v.1916 64 bit (AMD64)] \\\\ \\hline\nIPython & 8.4.0 \\\\ \\hline\nOS & Windows 10 10.0.19044 SP0 \\\\ \\hline\nnumpy & 1.23.3 \\\\ \\hline\nmatplotlib & 3.5.2 \\\\ \\hline\nseaborn & 0.12.0 \\\\ \\hline\ntensorflow & 2.10.0 \\\\ \\hline\n\\hline \\multicolumn{2}{|l|}{Sat Nov 12 10:26:47 2022 Mitteleuropäische Zeit} \\\\ \\hline\n\\end{tabular}\n",
      "application/json": {
       "Software versions": [
        {
         "module": "Python",
         "version": "3.10.6 64bit [MSC v.1916 64 bit (AMD64)]"
        },
        {
         "module": "IPython",
         "version": "8.4.0"
        },
        {
         "module": "OS",
         "version": "Windows 10 10.0.19044 SP0"
        },
        {
         "module": "numpy",
         "version": "1.23.3"
        },
        {
         "module": "matplotlib",
         "version": "3.5.2"
        },
        {
         "module": "seaborn",
         "version": "0.12.0"
        },
        {
         "module": "tensorflow",
         "version": "2.10.0"
        }
       ]
      }
     },
     "execution_count": 22,
     "metadata": {},
     "output_type": "execute_result"
    }
   ],
   "source": [
    "%version_information numpy, matplotlib, seaborn, tensorflow"
   ],
   "metadata": {
    "collapsed": false
   }
  }
 ],
 "metadata": {
  "kernelspec": {
   "name": "tf_env",
   "language": "python",
   "display_name": "tf_env"
  },
  "language_info": {
   "codemirror_mode": {
    "name": "ipython",
    "version": 2
   },
   "file_extension": ".py",
   "mimetype": "text/x-python",
   "name": "python",
   "nbconvert_exporter": "python",
   "pygments_lexer": "ipython2",
   "version": "2.7.6"
  }
 },
 "nbformat": 4,
 "nbformat_minor": 0
}
