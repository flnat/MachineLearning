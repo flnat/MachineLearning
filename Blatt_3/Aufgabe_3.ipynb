{
 "cells": [
  {
   "cell_type": "markdown",
   "source": [
    "## 3. Klassifikation mit Random Forests und Boosting"
   ],
   "metadata": {
    "collapsed": false
   }
  },
  {
   "cell_type": "markdown",
   "source": [
    "### a.)\n",
    "Wiederholen Sie Aufgabe 1 b mit einem Random Forest. Teilen Sie dazu den Datensatz wieder in einen Trainings- und Testdatensatz. Bestimmen Sie den Fehler auf den Testdaten und vergleichen Sie ihn mit dem ”out of bag”-Fehler."
   ],
   "metadata": {
    "collapsed": false
   }
  },
  {
   "cell_type": "code",
   "execution_count": 1,
   "outputs": [
    {
     "name": "stdout",
     "output_type": "stream",
     "text": [
      "Out of Bag Error: 0.0000\n",
      "Test Error: 0.9778\n"
     ]
    }
   ],
   "source": [
    "from sklearn.datasets import load_digits\n",
    "from sklearn.ensemble import RandomForestClassifier\n",
    "from sklearn.model_selection import train_test_split\n",
    "\n",
    "x, y = load_digits(return_X_y=True)\n",
    "\n",
    "x_train, x_test, y_train, y_test = train_test_split(x, y, random_state=42)\n",
    "\n",
    "rf_clf = RandomForestClassifier()\n",
    "rf_clf.fit(x_train, y_train)\n",
    "\n",
    "print(f\"Out of Bag Error: {rf_clf.oob_score:.4f}\")\n",
    "print(f\"Test Error: {rf_clf.score(x_test, y_test):.4f}\")"
   ],
   "metadata": {
    "collapsed": false
   }
  },
  {
   "cell_type": "markdown",
   "source": [
    "### b.)\n",
    "Wiederholen sie Aufgabe 1 b mit einem Boosting-Verfahren. Sie können dazu entweder die Implementierung von sklearn verwenden oder Sie installieren xgboost (https://github.com/dmlc/xgboost) oder catboost (https://catboost.ai/docs/)."
   ],
   "metadata": {
    "collapsed": false
   }
  },
  {
   "cell_type": "code",
   "execution_count": 2,
   "outputs": [
    {
     "name": "stdout",
     "output_type": "stream",
     "text": [
      "Test Error: 0.9711\n"
     ]
    }
   ],
   "source": [
    "from sklearn.ensemble import GradientBoostingClassifier\n",
    "\n",
    "gb_clf = GradientBoostingClassifier()\n",
    "gb_clf.fit(x_train, y_train)\n",
    "\n",
    "# print(f\"Out of Bag Error: {gb_clf.oob_improvement_:.4f}\")\n",
    "print(f\"Test Error: {gb_clf.score(x_test, y_test):.4f}\")"
   ],
   "metadata": {
    "collapsed": false
   }
  },
  {
   "cell_type": "markdown",
   "source": [
    "### c.)\n",
    "Optional: Finden Sie die optimalen Hyperparameter der Algorithmen mit der in 2 d beschriebenen Gittersuche."
   ],
   "metadata": {
    "collapsed": false
   }
  },
  {
   "cell_type": "markdown",
   "source": [
    "##### RandomForest Tuning"
   ],
   "metadata": {
    "collapsed": false
   }
  },
  {
   "cell_type": "code",
   "execution_count": 3,
   "outputs": [],
   "source": [
    "import numpy as np\n",
    "\n",
    "rf_param_grid = {\n",
    "    \"n_estimators\": [100 * i for i in range(1, 4)],\n",
    "    \"max_features\": [\"sqrt\", \"log2\"],\n",
    "    \"criterion\": [\"gini\", \"entropy\", \"log_loss\"]\n",
    "}"
   ],
   "metadata": {
    "collapsed": false
   }
  },
  {
   "cell_type": "code",
   "execution_count": 5,
   "outputs": [
    {
     "name": "stdout",
     "output_type": "stream",
     "text": [
      "Fitting 3 folds for each of 18 candidates, totalling 54 fits\n",
      "[CV] END criterion=gini, max_features=sqrt, n_estimators=100; total time=   0.5s\n",
      "[CV] END criterion=gini, max_features=sqrt, n_estimators=100; total time=   0.2s\n",
      "[CV] END criterion=gini, max_features=sqrt, n_estimators=100; total time=   0.2s\n",
      "[CV] END criterion=gini, max_features=sqrt, n_estimators=200; total time=   0.4s\n",
      "[CV] END criterion=gini, max_features=sqrt, n_estimators=200; total time=   0.7s\n",
      "[CV] END criterion=gini, max_features=sqrt, n_estimators=200; total time=   0.9s\n",
      "[CV] END criterion=gini, max_features=sqrt, n_estimators=300; total time=   0.7s\n",
      "[CV] END criterion=gini, max_features=sqrt, n_estimators=300; total time=   0.7s\n",
      "[CV] END criterion=gini, max_features=sqrt, n_estimators=300; total time=   1.4s\n",
      "[CV] END criterion=gini, max_features=log2, n_estimators=100; total time=   0.1s\n",
      "[CV] END criterion=gini, max_features=log2, n_estimators=100; total time=   0.1s\n",
      "[CV] END criterion=gini, max_features=log2, n_estimators=100; total time=   0.1s\n",
      "[CV] END criterion=gini, max_features=log2, n_estimators=200; total time=   0.3s\n",
      "[CV] END criterion=gini, max_features=log2, n_estimators=200; total time=   0.4s\n",
      "[CV] END criterion=gini, max_features=log2, n_estimators=200; total time=   1.0s\n",
      "[CV] END criterion=gini, max_features=log2, n_estimators=300; total time=   0.9s\n",
      "[CV] END criterion=gini, max_features=log2, n_estimators=300; total time=   0.7s\n",
      "[CV] END criterion=gini, max_features=log2, n_estimators=300; total time=   1.6s\n",
      "[CV] END criterion=entropy, max_features=sqrt, n_estimators=100; total time=   0.2s\n",
      "[CV] END criterion=entropy, max_features=sqrt, n_estimators=100; total time=   0.3s\n",
      "[CV] END criterion=entropy, max_features=sqrt, n_estimators=100; total time=   0.3s\n",
      "[CV] END criterion=entropy, max_features=sqrt, n_estimators=200; total time=   1.0s\n",
      "[CV] END criterion=entropy, max_features=sqrt, n_estimators=200; total time=   0.9s\n",
      "[CV] END criterion=entropy, max_features=sqrt, n_estimators=200; total time=   0.6s\n",
      "[CV] END criterion=entropy, max_features=sqrt, n_estimators=300; total time=   1.5s\n",
      "[CV] END criterion=entropy, max_features=sqrt, n_estimators=300; total time=   0.9s\n",
      "[CV] END criterion=entropy, max_features=sqrt, n_estimators=300; total time=   0.7s\n",
      "[CV] END criterion=entropy, max_features=log2, n_estimators=100; total time=   0.3s\n",
      "[CV] END criterion=entropy, max_features=log2, n_estimators=100; total time=   0.5s\n",
      "[CV] END criterion=entropy, max_features=log2, n_estimators=100; total time=   0.5s\n",
      "[CV] END criterion=entropy, max_features=log2, n_estimators=200; total time=   0.5s\n",
      "[CV] END criterion=entropy, max_features=log2, n_estimators=200; total time=   0.4s\n",
      "[CV] END criterion=entropy, max_features=log2, n_estimators=200; total time=   0.6s\n",
      "[CV] END criterion=entropy, max_features=log2, n_estimators=300; total time=   1.5s\n",
      "[CV] END criterion=entropy, max_features=log2, n_estimators=300; total time=   0.7s\n",
      "[CV] END criterion=entropy, max_features=log2, n_estimators=300; total time=   1.4s\n",
      "[CV] END criterion=log_loss, max_features=sqrt, n_estimators=100; total time=   0.5s\n",
      "[CV] END criterion=log_loss, max_features=sqrt, n_estimators=100; total time=   0.3s\n",
      "[CV] END criterion=log_loss, max_features=sqrt, n_estimators=100; total time=   0.2s\n",
      "[CV] END criterion=log_loss, max_features=sqrt, n_estimators=200; total time=   0.5s\n",
      "[CV] END criterion=log_loss, max_features=sqrt, n_estimators=200; total time=   1.1s\n",
      "[CV] END criterion=log_loss, max_features=sqrt, n_estimators=200; total time=   0.7s\n",
      "[CV] END criterion=log_loss, max_features=sqrt, n_estimators=300; total time=   0.7s\n",
      "[CV] END criterion=log_loss, max_features=sqrt, n_estimators=300; total time=   0.7s\n",
      "[CV] END criterion=log_loss, max_features=sqrt, n_estimators=300; total time=   0.7s\n",
      "[CV] END criterion=log_loss, max_features=log2, n_estimators=100; total time=   0.3s\n",
      "[CV] END criterion=log_loss, max_features=log2, n_estimators=100; total time=   0.6s\n",
      "[CV] END criterion=log_loss, max_features=log2, n_estimators=100; total time=   0.5s\n",
      "[CV] END criterion=log_loss, max_features=log2, n_estimators=200; total time=   0.5s\n",
      "[CV] END criterion=log_loss, max_features=log2, n_estimators=200; total time=   0.5s\n",
      "[CV] END criterion=log_loss, max_features=log2, n_estimators=200; total time=   0.8s\n",
      "[CV] END criterion=log_loss, max_features=log2, n_estimators=300; total time=   1.2s\n",
      "[CV] END criterion=log_loss, max_features=log2, n_estimators=300; total time=   0.8s\n",
      "[CV] END criterion=log_loss, max_features=log2, n_estimators=300; total time=   1.6s\n"
     ]
    },
    {
     "data": {
      "text/plain": "GridSearchCV(cv=3, estimator=RandomForestClassifier(),\n             param_grid={'criterion': ['gini', 'entropy', 'log_loss'],\n                         'max_features': ['sqrt', 'log2'],\n                         'n_estimators': [100, 200, 300]},\n             verbose=2)",
      "text/html": "<style>#sk-container-id-1 {color: black;background-color: white;}#sk-container-id-1 pre{padding: 0;}#sk-container-id-1 div.sk-toggleable {background-color: white;}#sk-container-id-1 label.sk-toggleable__label {cursor: pointer;display: block;width: 100%;margin-bottom: 0;padding: 0.3em;box-sizing: border-box;text-align: center;}#sk-container-id-1 label.sk-toggleable__label-arrow:before {content: \"▸\";float: left;margin-right: 0.25em;color: #696969;}#sk-container-id-1 label.sk-toggleable__label-arrow:hover:before {color: black;}#sk-container-id-1 div.sk-estimator:hover label.sk-toggleable__label-arrow:before {color: black;}#sk-container-id-1 div.sk-toggleable__content {max-height: 0;max-width: 0;overflow: hidden;text-align: left;background-color: #f0f8ff;}#sk-container-id-1 div.sk-toggleable__content pre {margin: 0.2em;color: black;border-radius: 0.25em;background-color: #f0f8ff;}#sk-container-id-1 input.sk-toggleable__control:checked~div.sk-toggleable__content {max-height: 200px;max-width: 100%;overflow: auto;}#sk-container-id-1 input.sk-toggleable__control:checked~label.sk-toggleable__label-arrow:before {content: \"▾\";}#sk-container-id-1 div.sk-estimator input.sk-toggleable__control:checked~label.sk-toggleable__label {background-color: #d4ebff;}#sk-container-id-1 div.sk-label input.sk-toggleable__control:checked~label.sk-toggleable__label {background-color: #d4ebff;}#sk-container-id-1 input.sk-hidden--visually {border: 0;clip: rect(1px 1px 1px 1px);clip: rect(1px, 1px, 1px, 1px);height: 1px;margin: -1px;overflow: hidden;padding: 0;position: absolute;width: 1px;}#sk-container-id-1 div.sk-estimator {font-family: monospace;background-color: #f0f8ff;border: 1px dotted black;border-radius: 0.25em;box-sizing: border-box;margin-bottom: 0.5em;}#sk-container-id-1 div.sk-estimator:hover {background-color: #d4ebff;}#sk-container-id-1 div.sk-parallel-item::after {content: \"\";width: 100%;border-bottom: 1px solid gray;flex-grow: 1;}#sk-container-id-1 div.sk-label:hover label.sk-toggleable__label {background-color: #d4ebff;}#sk-container-id-1 div.sk-serial::before {content: \"\";position: absolute;border-left: 1px solid gray;box-sizing: border-box;top: 0;bottom: 0;left: 50%;z-index: 0;}#sk-container-id-1 div.sk-serial {display: flex;flex-direction: column;align-items: center;background-color: white;padding-right: 0.2em;padding-left: 0.2em;position: relative;}#sk-container-id-1 div.sk-item {position: relative;z-index: 1;}#sk-container-id-1 div.sk-parallel {display: flex;align-items: stretch;justify-content: center;background-color: white;position: relative;}#sk-container-id-1 div.sk-item::before, #sk-container-id-1 div.sk-parallel-item::before {content: \"\";position: absolute;border-left: 1px solid gray;box-sizing: border-box;top: 0;bottom: 0;left: 50%;z-index: -1;}#sk-container-id-1 div.sk-parallel-item {display: flex;flex-direction: column;z-index: 1;position: relative;background-color: white;}#sk-container-id-1 div.sk-parallel-item:first-child::after {align-self: flex-end;width: 50%;}#sk-container-id-1 div.sk-parallel-item:last-child::after {align-self: flex-start;width: 50%;}#sk-container-id-1 div.sk-parallel-item:only-child::after {width: 0;}#sk-container-id-1 div.sk-dashed-wrapped {border: 1px dashed gray;margin: 0 0.4em 0.5em 0.4em;box-sizing: border-box;padding-bottom: 0.4em;background-color: white;}#sk-container-id-1 div.sk-label label {font-family: monospace;font-weight: bold;display: inline-block;line-height: 1.2em;}#sk-container-id-1 div.sk-label-container {text-align: center;}#sk-container-id-1 div.sk-container {/* jupyter's `normalize.less` sets `[hidden] { display: none; }` but bootstrap.min.css set `[hidden] { display: none !important; }` so we also need the `!important` here to be able to override the default hidden behavior on the sphinx rendered scikit-learn.org. See: https://github.com/scikit-learn/scikit-learn/issues/21755 */display: inline-block !important;position: relative;}#sk-container-id-1 div.sk-text-repr-fallback {display: none;}</style><div id=\"sk-container-id-1\" class=\"sk-top-container\"><div class=\"sk-text-repr-fallback\"><pre>GridSearchCV(cv=3, estimator=RandomForestClassifier(),\n             param_grid={&#x27;criterion&#x27;: [&#x27;gini&#x27;, &#x27;entropy&#x27;, &#x27;log_loss&#x27;],\n                         &#x27;max_features&#x27;: [&#x27;sqrt&#x27;, &#x27;log2&#x27;],\n                         &#x27;n_estimators&#x27;: [100, 200, 300]},\n             verbose=2)</pre><b>In a Jupyter environment, please rerun this cell to show the HTML representation or trust the notebook. <br />On GitHub, the HTML representation is unable to render, please try loading this page with nbviewer.org.</b></div><div class=\"sk-container\" hidden><div class=\"sk-item sk-dashed-wrapped\"><div class=\"sk-label-container\"><div class=\"sk-label sk-toggleable\"><input class=\"sk-toggleable__control sk-hidden--visually\" id=\"sk-estimator-id-1\" type=\"checkbox\" ><label for=\"sk-estimator-id-1\" class=\"sk-toggleable__label sk-toggleable__label-arrow\">GridSearchCV</label><div class=\"sk-toggleable__content\"><pre>GridSearchCV(cv=3, estimator=RandomForestClassifier(),\n             param_grid={&#x27;criterion&#x27;: [&#x27;gini&#x27;, &#x27;entropy&#x27;, &#x27;log_loss&#x27;],\n                         &#x27;max_features&#x27;: [&#x27;sqrt&#x27;, &#x27;log2&#x27;],\n                         &#x27;n_estimators&#x27;: [100, 200, 300]},\n             verbose=2)</pre></div></div></div><div class=\"sk-parallel\"><div class=\"sk-parallel-item\"><div class=\"sk-item\"><div class=\"sk-label-container\"><div class=\"sk-label sk-toggleable\"><input class=\"sk-toggleable__control sk-hidden--visually\" id=\"sk-estimator-id-2\" type=\"checkbox\" ><label for=\"sk-estimator-id-2\" class=\"sk-toggleable__label sk-toggleable__label-arrow\">estimator: RandomForestClassifier</label><div class=\"sk-toggleable__content\"><pre>RandomForestClassifier()</pre></div></div></div><div class=\"sk-serial\"><div class=\"sk-item\"><div class=\"sk-estimator sk-toggleable\"><input class=\"sk-toggleable__control sk-hidden--visually\" id=\"sk-estimator-id-3\" type=\"checkbox\" ><label for=\"sk-estimator-id-3\" class=\"sk-toggleable__label sk-toggleable__label-arrow\">RandomForestClassifier</label><div class=\"sk-toggleable__content\"><pre>RandomForestClassifier()</pre></div></div></div></div></div></div></div></div></div></div>"
     },
     "execution_count": 5,
     "metadata": {},
     "output_type": "execute_result"
    }
   ],
   "source": [
    "from sklearn.model_selection import GridSearchCV\n",
    "\n",
    "grid_cv = GridSearchCV(RandomForestClassifier(), rf_param_grid, verbose=2, cv=3)\n",
    "grid_cv.fit(x_train, y_train)"
   ],
   "metadata": {
    "collapsed": false
   }
  },
  {
   "cell_type": "code",
   "execution_count": 6,
   "outputs": [
    {
     "data": {
      "text/plain": "0.9777777777777777"
     },
     "execution_count": 6,
     "metadata": {},
     "output_type": "execute_result"
    }
   ],
   "source": [
    "grid_cv.score(x_test, y_test)"
   ],
   "metadata": {
    "collapsed": false
   }
  },
  {
   "cell_type": "markdown",
   "source": [
    "##### GradientBoosting Tuning"
   ],
   "metadata": {
    "collapsed": false
   }
  },
  {
   "cell_type": "code",
   "execution_count": 7,
   "outputs": [],
   "source": [
    "gb_params = {\n",
    "    \"loss\": [\"log_loss\"],\n",
    "    \"learning_rate\": np.logspace(-7, 1, 10),\n",
    "    \"criterion\": [\"friedman_mse\", \"squared_error\"]\n",
    "}"
   ],
   "metadata": {
    "collapsed": false
   }
  },
  {
   "cell_type": "code",
   "execution_count": 8,
   "outputs": [
    {
     "name": "stdout",
     "output_type": "stream",
     "text": [
      "Fitting 3 folds for each of 20 candidates, totalling 60 fits\n",
      "[CV] END criterion=friedman_mse, learning_rate=1e-07, loss=log_loss; total time=   5.6s\n",
      "[CV] END criterion=friedman_mse, learning_rate=1e-07, loss=log_loss; total time=   4.6s\n",
      "[CV] END criterion=friedman_mse, learning_rate=1e-07, loss=log_loss; total time=   4.5s\n",
      "[CV] END criterion=friedman_mse, learning_rate=7.742636826811278e-07, loss=log_loss; total time=   5.2s\n",
      "[CV] END criterion=friedman_mse, learning_rate=7.742636826811278e-07, loss=log_loss; total time=   3.8s\n",
      "[CV] END criterion=friedman_mse, learning_rate=7.742636826811278e-07, loss=log_loss; total time=   5.2s\n",
      "[CV] END criterion=friedman_mse, learning_rate=5.994842503189409e-06, loss=log_loss; total time=   4.4s\n",
      "[CV] END criterion=friedman_mse, learning_rate=5.994842503189409e-06, loss=log_loss; total time=   4.7s\n",
      "[CV] END criterion=friedman_mse, learning_rate=5.994842503189409e-06, loss=log_loss; total time=   5.7s\n",
      "[CV] END criterion=friedman_mse, learning_rate=4.641588833612772e-05, loss=log_loss; total time=   4.6s\n",
      "[CV] END criterion=friedman_mse, learning_rate=4.641588833612772e-05, loss=log_loss; total time=   4.9s\n",
      "[CV] END criterion=friedman_mse, learning_rate=4.641588833612772e-05, loss=log_loss; total time=   4.2s\n",
      "[CV] END criterion=friedman_mse, learning_rate=0.00035938136638046257, loss=log_loss; total time=   5.5s\n",
      "[CV] END criterion=friedman_mse, learning_rate=0.00035938136638046257, loss=log_loss; total time=   4.5s\n",
      "[CV] END criterion=friedman_mse, learning_rate=0.00035938136638046257, loss=log_loss; total time=   3.5s\n",
      "[CV] END criterion=friedman_mse, learning_rate=0.0027825594022071257, loss=log_loss; total time=   5.2s\n",
      "[CV] END criterion=friedman_mse, learning_rate=0.0027825594022071257, loss=log_loss; total time=   4.4s\n",
      "[CV] END criterion=friedman_mse, learning_rate=0.0027825594022071257, loss=log_loss; total time=   4.4s\n",
      "[CV] END criterion=friedman_mse, learning_rate=0.021544346900318822, loss=log_loss; total time=   5.1s\n",
      "[CV] END criterion=friedman_mse, learning_rate=0.021544346900318822, loss=log_loss; total time=   3.4s\n",
      "[CV] END criterion=friedman_mse, learning_rate=0.021544346900318822, loss=log_loss; total time=   4.6s\n",
      "[CV] END criterion=friedman_mse, learning_rate=0.16681005372000557, loss=log_loss; total time=   4.4s\n",
      "[CV] END criterion=friedman_mse, learning_rate=0.16681005372000557, loss=log_loss; total time=   3.5s\n",
      "[CV] END criterion=friedman_mse, learning_rate=0.16681005372000557, loss=log_loss; total time=   5.7s\n",
      "[CV] END criterion=friedman_mse, learning_rate=1.2915496650148828, loss=log_loss; total time=   3.7s\n",
      "[CV] END criterion=friedman_mse, learning_rate=1.2915496650148828, loss=log_loss; total time=   1.5s\n",
      "[CV] END criterion=friedman_mse, learning_rate=1.2915496650148828, loss=log_loss; total time=   5.7s\n",
      "[CV] END criterion=friedman_mse, learning_rate=10.0, loss=log_loss; total time=   4.8s\n",
      "[CV] END criterion=friedman_mse, learning_rate=10.0, loss=log_loss; total time=   4.7s\n",
      "[CV] END criterion=friedman_mse, learning_rate=10.0, loss=log_loss; total time=   5.5s\n",
      "[CV] END criterion=squared_error, learning_rate=1e-07, loss=log_loss; total time=   4.1s\n",
      "[CV] END criterion=squared_error, learning_rate=1e-07, loss=log_loss; total time=   5.2s\n",
      "[CV] END criterion=squared_error, learning_rate=1e-07, loss=log_loss; total time=   4.5s\n",
      "[CV] END criterion=squared_error, learning_rate=7.742636826811278e-07, loss=log_loss; total time=   4.7s\n",
      "[CV] END criterion=squared_error, learning_rate=7.742636826811278e-07, loss=log_loss; total time=   5.0s\n",
      "[CV] END criterion=squared_error, learning_rate=7.742636826811278e-07, loss=log_loss; total time=   6.2s\n",
      "[CV] END criterion=squared_error, learning_rate=5.994842503189409e-06, loss=log_loss; total time=   6.5s\n",
      "[CV] END criterion=squared_error, learning_rate=5.994842503189409e-06, loss=log_loss; total time=   3.9s\n",
      "[CV] END criterion=squared_error, learning_rate=5.994842503189409e-06, loss=log_loss; total time=   5.3s\n",
      "[CV] END criterion=squared_error, learning_rate=4.641588833612772e-05, loss=log_loss; total time=   4.3s\n",
      "[CV] END criterion=squared_error, learning_rate=4.641588833612772e-05, loss=log_loss; total time=   4.6s\n",
      "[CV] END criterion=squared_error, learning_rate=4.641588833612772e-05, loss=log_loss; total time=   5.7s\n",
      "[CV] END criterion=squared_error, learning_rate=0.00035938136638046257, loss=log_loss; total time=   3.6s\n",
      "[CV] END criterion=squared_error, learning_rate=0.00035938136638046257, loss=log_loss; total time=   5.7s\n",
      "[CV] END criterion=squared_error, learning_rate=0.00035938136638046257, loss=log_loss; total time=   4.5s\n",
      "[CV] END criterion=squared_error, learning_rate=0.0027825594022071257, loss=log_loss; total time=   4.6s\n",
      "[CV] END criterion=squared_error, learning_rate=0.0027825594022071257, loss=log_loss; total time=   5.5s\n",
      "[CV] END criterion=squared_error, learning_rate=0.0027825594022071257, loss=log_loss; total time=   4.5s\n",
      "[CV] END criterion=squared_error, learning_rate=0.021544346900318822, loss=log_loss; total time=   5.4s\n",
      "[CV] END criterion=squared_error, learning_rate=0.021544346900318822, loss=log_loss; total time=   4.4s\n",
      "[CV] END criterion=squared_error, learning_rate=0.021544346900318822, loss=log_loss; total time=   4.6s\n",
      "[CV] END criterion=squared_error, learning_rate=0.16681005372000557, loss=log_loss; total time=   4.4s\n",
      "[CV] END criterion=squared_error, learning_rate=0.16681005372000557, loss=log_loss; total time=   3.4s\n",
      "[CV] END criterion=squared_error, learning_rate=0.16681005372000557, loss=log_loss; total time=   4.6s\n",
      "[CV] END criterion=squared_error, learning_rate=1.2915496650148828, loss=log_loss; total time=   4.5s\n",
      "[CV] END criterion=squared_error, learning_rate=1.2915496650148828, loss=log_loss; total time=   2.6s\n",
      "[CV] END criterion=squared_error, learning_rate=1.2915496650148828, loss=log_loss; total time=   6.0s\n",
      "[CV] END criterion=squared_error, learning_rate=10.0, loss=log_loss; total time=   5.8s\n",
      "[CV] END criterion=squared_error, learning_rate=10.0, loss=log_loss; total time=   5.8s\n",
      "[CV] END criterion=squared_error, learning_rate=10.0, loss=log_loss; total time=   3.5s\n"
     ]
    },
    {
     "data": {
      "text/plain": "GridSearchCV(cv=3, estimator=GradientBoostingClassifier(),\n             param_grid={'criterion': ['friedman_mse', 'squared_error'],\n                         'learning_rate': array([1.00000000e-07, 7.74263683e-07, 5.99484250e-06, 4.64158883e-05,\n       3.59381366e-04, 2.78255940e-03, 2.15443469e-02, 1.66810054e-01,\n       1.29154967e+00, 1.00000000e+01]),\n                         'loss': ['log_loss']},\n             verbose=2)",
      "text/html": "<style>#sk-container-id-2 {color: black;background-color: white;}#sk-container-id-2 pre{padding: 0;}#sk-container-id-2 div.sk-toggleable {background-color: white;}#sk-container-id-2 label.sk-toggleable__label {cursor: pointer;display: block;width: 100%;margin-bottom: 0;padding: 0.3em;box-sizing: border-box;text-align: center;}#sk-container-id-2 label.sk-toggleable__label-arrow:before {content: \"▸\";float: left;margin-right: 0.25em;color: #696969;}#sk-container-id-2 label.sk-toggleable__label-arrow:hover:before {color: black;}#sk-container-id-2 div.sk-estimator:hover label.sk-toggleable__label-arrow:before {color: black;}#sk-container-id-2 div.sk-toggleable__content {max-height: 0;max-width: 0;overflow: hidden;text-align: left;background-color: #f0f8ff;}#sk-container-id-2 div.sk-toggleable__content pre {margin: 0.2em;color: black;border-radius: 0.25em;background-color: #f0f8ff;}#sk-container-id-2 input.sk-toggleable__control:checked~div.sk-toggleable__content {max-height: 200px;max-width: 100%;overflow: auto;}#sk-container-id-2 input.sk-toggleable__control:checked~label.sk-toggleable__label-arrow:before {content: \"▾\";}#sk-container-id-2 div.sk-estimator input.sk-toggleable__control:checked~label.sk-toggleable__label {background-color: #d4ebff;}#sk-container-id-2 div.sk-label input.sk-toggleable__control:checked~label.sk-toggleable__label {background-color: #d4ebff;}#sk-container-id-2 input.sk-hidden--visually {border: 0;clip: rect(1px 1px 1px 1px);clip: rect(1px, 1px, 1px, 1px);height: 1px;margin: -1px;overflow: hidden;padding: 0;position: absolute;width: 1px;}#sk-container-id-2 div.sk-estimator {font-family: monospace;background-color: #f0f8ff;border: 1px dotted black;border-radius: 0.25em;box-sizing: border-box;margin-bottom: 0.5em;}#sk-container-id-2 div.sk-estimator:hover {background-color: #d4ebff;}#sk-container-id-2 div.sk-parallel-item::after {content: \"\";width: 100%;border-bottom: 1px solid gray;flex-grow: 1;}#sk-container-id-2 div.sk-label:hover label.sk-toggleable__label {background-color: #d4ebff;}#sk-container-id-2 div.sk-serial::before {content: \"\";position: absolute;border-left: 1px solid gray;box-sizing: border-box;top: 0;bottom: 0;left: 50%;z-index: 0;}#sk-container-id-2 div.sk-serial {display: flex;flex-direction: column;align-items: center;background-color: white;padding-right: 0.2em;padding-left: 0.2em;position: relative;}#sk-container-id-2 div.sk-item {position: relative;z-index: 1;}#sk-container-id-2 div.sk-parallel {display: flex;align-items: stretch;justify-content: center;background-color: white;position: relative;}#sk-container-id-2 div.sk-item::before, #sk-container-id-2 div.sk-parallel-item::before {content: \"\";position: absolute;border-left: 1px solid gray;box-sizing: border-box;top: 0;bottom: 0;left: 50%;z-index: -1;}#sk-container-id-2 div.sk-parallel-item {display: flex;flex-direction: column;z-index: 1;position: relative;background-color: white;}#sk-container-id-2 div.sk-parallel-item:first-child::after {align-self: flex-end;width: 50%;}#sk-container-id-2 div.sk-parallel-item:last-child::after {align-self: flex-start;width: 50%;}#sk-container-id-2 div.sk-parallel-item:only-child::after {width: 0;}#sk-container-id-2 div.sk-dashed-wrapped {border: 1px dashed gray;margin: 0 0.4em 0.5em 0.4em;box-sizing: border-box;padding-bottom: 0.4em;background-color: white;}#sk-container-id-2 div.sk-label label {font-family: monospace;font-weight: bold;display: inline-block;line-height: 1.2em;}#sk-container-id-2 div.sk-label-container {text-align: center;}#sk-container-id-2 div.sk-container {/* jupyter's `normalize.less` sets `[hidden] { display: none; }` but bootstrap.min.css set `[hidden] { display: none !important; }` so we also need the `!important` here to be able to override the default hidden behavior on the sphinx rendered scikit-learn.org. See: https://github.com/scikit-learn/scikit-learn/issues/21755 */display: inline-block !important;position: relative;}#sk-container-id-2 div.sk-text-repr-fallback {display: none;}</style><div id=\"sk-container-id-2\" class=\"sk-top-container\"><div class=\"sk-text-repr-fallback\"><pre>GridSearchCV(cv=3, estimator=GradientBoostingClassifier(),\n             param_grid={&#x27;criterion&#x27;: [&#x27;friedman_mse&#x27;, &#x27;squared_error&#x27;],\n                         &#x27;learning_rate&#x27;: array([1.00000000e-07, 7.74263683e-07, 5.99484250e-06, 4.64158883e-05,\n       3.59381366e-04, 2.78255940e-03, 2.15443469e-02, 1.66810054e-01,\n       1.29154967e+00, 1.00000000e+01]),\n                         &#x27;loss&#x27;: [&#x27;log_loss&#x27;]},\n             verbose=2)</pre><b>In a Jupyter environment, please rerun this cell to show the HTML representation or trust the notebook. <br />On GitHub, the HTML representation is unable to render, please try loading this page with nbviewer.org.</b></div><div class=\"sk-container\" hidden><div class=\"sk-item sk-dashed-wrapped\"><div class=\"sk-label-container\"><div class=\"sk-label sk-toggleable\"><input class=\"sk-toggleable__control sk-hidden--visually\" id=\"sk-estimator-id-4\" type=\"checkbox\" ><label for=\"sk-estimator-id-4\" class=\"sk-toggleable__label sk-toggleable__label-arrow\">GridSearchCV</label><div class=\"sk-toggleable__content\"><pre>GridSearchCV(cv=3, estimator=GradientBoostingClassifier(),\n             param_grid={&#x27;criterion&#x27;: [&#x27;friedman_mse&#x27;, &#x27;squared_error&#x27;],\n                         &#x27;learning_rate&#x27;: array([1.00000000e-07, 7.74263683e-07, 5.99484250e-06, 4.64158883e-05,\n       3.59381366e-04, 2.78255940e-03, 2.15443469e-02, 1.66810054e-01,\n       1.29154967e+00, 1.00000000e+01]),\n                         &#x27;loss&#x27;: [&#x27;log_loss&#x27;]},\n             verbose=2)</pre></div></div></div><div class=\"sk-parallel\"><div class=\"sk-parallel-item\"><div class=\"sk-item\"><div class=\"sk-label-container\"><div class=\"sk-label sk-toggleable\"><input class=\"sk-toggleable__control sk-hidden--visually\" id=\"sk-estimator-id-5\" type=\"checkbox\" ><label for=\"sk-estimator-id-5\" class=\"sk-toggleable__label sk-toggleable__label-arrow\">estimator: GradientBoostingClassifier</label><div class=\"sk-toggleable__content\"><pre>GradientBoostingClassifier()</pre></div></div></div><div class=\"sk-serial\"><div class=\"sk-item\"><div class=\"sk-estimator sk-toggleable\"><input class=\"sk-toggleable__control sk-hidden--visually\" id=\"sk-estimator-id-6\" type=\"checkbox\" ><label for=\"sk-estimator-id-6\" class=\"sk-toggleable__label sk-toggleable__label-arrow\">GradientBoostingClassifier</label><div class=\"sk-toggleable__content\"><pre>GradientBoostingClassifier()</pre></div></div></div></div></div></div></div></div></div></div>"
     },
     "execution_count": 8,
     "metadata": {},
     "output_type": "execute_result"
    }
   ],
   "source": [
    "gb_grid = GridSearchCV(GradientBoostingClassifier(), gb_params, cv=3, verbose=2)\n",
    "gb_grid.fit(x_train, y_train)"
   ],
   "metadata": {
    "collapsed": false
   }
  },
  {
   "cell_type": "code",
   "execution_count": 9,
   "outputs": [
    {
     "data": {
      "text/plain": "0.9733333333333334"
     },
     "execution_count": 9,
     "metadata": {},
     "output_type": "execute_result"
    }
   ],
   "source": [
    "gb_grid.score(x_test, y_test)"
   ],
   "metadata": {
    "collapsed": false
   }
  }
 ],
 "metadata": {
  "kernelspec": {
   "display_name": "Python 3",
   "language": "python",
   "name": "python3"
  },
  "language_info": {
   "codemirror_mode": {
    "name": "ipython",
    "version": 2
   },
   "file_extension": ".py",
   "mimetype": "text/x-python",
   "name": "python",
   "nbconvert_exporter": "python",
   "pygments_lexer": "ipython2",
   "version": "2.7.6"
  }
 },
 "nbformat": 4,
 "nbformat_minor": 0
}
