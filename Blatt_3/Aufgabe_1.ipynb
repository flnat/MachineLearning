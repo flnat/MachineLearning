{
 "cells": [
  {
   "cell_type": "markdown",
   "source": [
    "## 1. Klassifikation mit SVMs"
   ],
   "metadata": {
    "collapsed": false
   }
  },
  {
   "cell_type": "markdown",
   "source": [
    "In unserer letzten Übung befassen wir uns mit dem Python-Paket Scikit Learn, mit dem sich die meisten Standard-Lernmaschinen auf sehr bequeme (und trotzdem performante) Weise realisieren lassen. Schauen Sie sich zunächst das einführende Tutorium unter http://scikit-learn.org/stable/tutorial/basic/tutorial.html an, um die grundsätzliche Syntax zu erlernen."
   ],
   "metadata": {
    "collapsed": false
   }
  },
  {
   "cell_type": "markdown",
   "source": [
    "### a.)\n",
    "Laden Sie, wie im Tutorium beschrieben, den berühmten MNIST-Datensatz mit eingescannten handgeschriebenen Ziffern mit der Funktion digits = load_digits(). Grundlegende Informationen zum Datensatz erhalten Sie durch Ausgabe des Attributes digits.DESCR. Die Merkmalsvektoren (hier Bilder) sind die Zeilen der Designmatrix digits.data, die zugehörigen Labels stehen in dem Vektor digits.target. Wie in Arbeitsblatt 1 gelernt, finden Sie heraus, wieviele und welche Labels und wieviele Daten es gibt, und welche Dimension diese haben. Stellen Sie eine Zufallsauswahl von 10 Bildern (zusammen mit der Klassenzugehörigkeit) in Ihrem Notebook dar."
   ],
   "metadata": {
    "collapsed": false
   }
  },
  {
   "cell_type": "code",
   "execution_count": 2,
   "outputs": [],
   "source": [
    "import numpy as np\n",
    "from sklearn.datasets import load_digits\n",
    "\n",
    "digits = load_digits()\n",
    "\n",
    "x = digits.data\n",
    "y = digits.target"
   ],
   "metadata": {
    "collapsed": false
   }
  },
  {
   "cell_type": "code",
   "execution_count": 3,
   "outputs": [
    {
     "data": {
      "text/plain": "array([0, 1, 2, 3, 4, 5, 6, 7, 8, 9])"
     },
     "execution_count": 3,
     "metadata": {},
     "output_type": "execute_result"
    }
   ],
   "source": [
    "digits.target_names"
   ],
   "metadata": {
    "collapsed": false
   }
  },
  {
   "cell_type": "code",
   "execution_count": 4,
   "outputs": [
    {
     "data": {
      "text/plain": "(1797, 64)"
     },
     "execution_count": 4,
     "metadata": {},
     "output_type": "execute_result"
    }
   ],
   "source": [
    "x.shape"
   ],
   "metadata": {
    "collapsed": false
   }
  },
  {
   "cell_type": "code",
   "execution_count": 5,
   "outputs": [
    {
     "data": {
      "text/plain": "<Figure size 640x480 with 12 Axes>",
      "image/png": "[encoded data removed]"
     },
     "metadata": {},
     "output_type": "display_data"
    }
   ],
   "source": [
    "import matplotlib.pyplot as plt\n",
    "\n",
    "fig, axs = plt.subplots(4, 3)\n",
    "\n",
    "fig.tight_layout()\n",
    "\n",
    "for idx, ax in enumerate(axs.reshape(-1)):\n",
    "    ax.imshow(x[idx].reshape((8, 8)), cmap=\"gray\")\n",
    "    ax.tick_params(bottom=False, left=False, labelbottom=False, labelleft=False)\n",
    "    ax.set_title(y[idx])"
   ],
   "metadata": {
    "collapsed": false
   }
  },
  {
   "cell_type": "markdown",
   "source": [
    "### b.)\n",
    "Teilen Sie den Datensatz zufällig in einen nichtüberlappenden Trainings- und Testdatensatz auf, so dass ein Viertel der Daten zu Testdaten werden. Dies geschieht am Einfachsten mit der Funktion sklearn.model_selection.train_test_split(). Trainieren Sie einen Supportvektor-Klassifikator (Standard in Scikit Learn ist eine 1-Norm Soft Margin SVM, bei Mehrklassenproblemen wird automatisch ein Satz von one-vs.-one-Klassifikatoren erstellt) mit einem RBF-Kern mit $\\gamma = 0.015$ und einem Parameter $C = 1.0$. Bestimmen Sie den Anteil korrekt klassifizierter Beispiele (Korrektklassifikationsrate, Treffergenauigkeit, engl. Accuracy) im Trainings- und Testdatensatz mithilfe der Funktion SVC.score(). Underfitting liegt vor, wenn Ihr Klassifikator auf den Trainingsdatensatz eine Treffergenauigkeit von deutlich unter 100% erzielt, bei Overfitting liegt die Treffergenauigkeit auf dem Testdatensatz deutlich unter der auf dem Trainingsdatensatz. Welcher Fall liegt hier vor? Probieren Sie alternativ die SVM-Parameter und und vergleichen Sie. Wiederholen Sie das Experiment für einen anderen Zufallssplit in Trainings- und Testdatensatz. Wie stark hängt Ihr Ergebnis von der zufälligen Teilung in Trainings- und Testdatensatz ab?"
   ],
   "metadata": {
    "collapsed": false
   }
  },
  {
   "cell_type": "code",
   "execution_count": 6,
   "outputs": [],
   "source": [
    "from sklearn.model_selection import train_test_split\n",
    "\n",
    "random_seed = 42\n",
    "\n",
    "x_train, x_test, y_train, y_test = train_test_split(x, y, train_size=0.8, random_state=random_seed)"
   ],
   "metadata": {
    "collapsed": false
   }
  },
  {
   "cell_type": "code",
   "execution_count": 7,
   "outputs": [
    {
     "data": {
      "text/plain": "SVC(gamma=0.015)",
      "text/html": "<style>#sk-container-id-1 {color: black;background-color: white;}#sk-container-id-1 pre{padding: 0;}#sk-container-id-1 div.sk-toggleable {background-color: white;}#sk-container-id-1 label.sk-toggleable__label {cursor: pointer;display: block;width: 100%;margin-bottom: 0;padding: 0.3em;box-sizing: border-box;text-align: center;}#sk-container-id-1 label.sk-toggleable__label-arrow:before {content: \"▸\";float: left;margin-right: 0.25em;color: #696969;}#sk-container-id-1 label.sk-toggleable__label-arrow:hover:before {color: black;}#sk-container-id-1 div.sk-estimator:hover label.sk-toggleable__label-arrow:before {color: black;}#sk-container-id-1 div.sk-toggleable__content {max-height: 0;max-width: 0;overflow: hidden;text-align: left;background-color: #f0f8ff;}#sk-container-id-1 div.sk-toggleable__content pre {margin: 0.2em;color: black;border-radius: 0.25em;background-color: #f0f8ff;}#sk-container-id-1 input.sk-toggleable__control:checked~div.sk-toggleable__content {max-height: 200px;max-width: 100%;overflow: auto;}#sk-container-id-1 input.sk-toggleable__control:checked~label.sk-toggleable__label-arrow:before {content: \"▾\";}#sk-container-id-1 div.sk-estimator input.sk-toggleable__control:checked~label.sk-toggleable__label {background-color: #d4ebff;}#sk-container-id-1 div.sk-label input.sk-toggleable__control:checked~label.sk-toggleable__label {background-color: #d4ebff;}#sk-container-id-1 input.sk-hidden--visually {border: 0;clip: rect(1px 1px 1px 1px);clip: rect(1px, 1px, 1px, 1px);height: 1px;margin: -1px;overflow: hidden;padding: 0;position: absolute;width: 1px;}#sk-container-id-1 div.sk-estimator {font-family: monospace;background-color: #f0f8ff;border: 1px dotted black;border-radius: 0.25em;box-sizing: border-box;margin-bottom: 0.5em;}#sk-container-id-1 div.sk-estimator:hover {background-color: #d4ebff;}#sk-container-id-1 div.sk-parallel-item::after {content: \"\";width: 100%;border-bottom: 1px solid gray;flex-grow: 1;}#sk-container-id-1 div.sk-label:hover label.sk-toggleable__label {background-color: #d4ebff;}#sk-container-id-1 div.sk-serial::before {content: \"\";position: absolute;border-left: 1px solid gray;box-sizing: border-box;top: 0;bottom: 0;left: 50%;z-index: 0;}#sk-container-id-1 div.sk-serial {display: flex;flex-direction: column;align-items: center;background-color: white;padding-right: 0.2em;padding-left: 0.2em;position: relative;}#sk-container-id-1 div.sk-item {position: relative;z-index: 1;}#sk-container-id-1 div.sk-parallel {display: flex;align-items: stretch;justify-content: center;background-color: white;position: relative;}#sk-container-id-1 div.sk-item::before, #sk-container-id-1 div.sk-parallel-item::before {content: \"\";position: absolute;border-left: 1px solid gray;box-sizing: border-box;top: 0;bottom: 0;left: 50%;z-index: -1;}#sk-container-id-1 div.sk-parallel-item {display: flex;flex-direction: column;z-index: 1;position: relative;background-color: white;}#sk-container-id-1 div.sk-parallel-item:first-child::after {align-self: flex-end;width: 50%;}#sk-container-id-1 div.sk-parallel-item:last-child::after {align-self: flex-start;width: 50%;}#sk-container-id-1 div.sk-parallel-item:only-child::after {width: 0;}#sk-container-id-1 div.sk-dashed-wrapped {border: 1px dashed gray;margin: 0 0.4em 0.5em 0.4em;box-sizing: border-box;padding-bottom: 0.4em;background-color: white;}#sk-container-id-1 div.sk-label label {font-family: monospace;font-weight: bold;display: inline-block;line-height: 1.2em;}#sk-container-id-1 div.sk-label-container {text-align: center;}#sk-container-id-1 div.sk-container {/* jupyter's `normalize.less` sets `[hidden] { display: none; }` but bootstrap.min.css set `[hidden] { display: none !important; }` so we also need the `!important` here to be able to override the default hidden behavior on the sphinx rendered scikit-learn.org. See: https://github.com/scikit-learn/scikit-learn/issues/21755 */display: inline-block !important;position: relative;}#sk-container-id-1 div.sk-text-repr-fallback {display: none;}</style><div id=\"sk-container-id-1\" class=\"sk-top-container\"><div class=\"sk-text-repr-fallback\"><pre>SVC(gamma=0.015)</pre><b>In a Jupyter environment, please rerun this cell to show the HTML representation or trust the notebook. <br />On GitHub, the HTML representation is unable to render, please try loading this page with nbviewer.org.</b></div><div class=\"sk-container\" hidden><div class=\"sk-item\"><div class=\"sk-estimator sk-toggleable\"><input class=\"sk-toggleable__control sk-hidden--visually\" id=\"sk-estimator-id-1\" type=\"checkbox\" checked><label for=\"sk-estimator-id-1\" class=\"sk-toggleable__label sk-toggleable__label-arrow\">SVC</label><div class=\"sk-toggleable__content\"><pre>SVC(gamma=0.015)</pre></div></div></div></div></div>"
     },
     "execution_count": 7,
     "metadata": {},
     "output_type": "execute_result"
    }
   ],
   "source": [
    "from sklearn.svm import SVC\n",
    "\n",
    "svm_clf = SVC(kernel=\"rbf\", C=1.0, gamma=0.015)\n",
    "svm_clf.fit(x_train, y_train)"
   ],
   "metadata": {
    "collapsed": false
   }
  },
  {
   "cell_type": "code",
   "execution_count": 8,
   "outputs": [
    {
     "data": {
      "text/plain": "1.0"
     },
     "execution_count": 8,
     "metadata": {},
     "output_type": "execute_result"
    }
   ],
   "source": [
    "svm_clf.score(x_train, y_train)"
   ],
   "metadata": {
    "collapsed": false
   }
  },
  {
   "cell_type": "code",
   "execution_count": 17,
   "outputs": [
    {
     "data": {
      "text/plain": "0.5083333333333333"
     },
     "execution_count": 17,
     "metadata": {},
     "output_type": "execute_result"
    }
   ],
   "source": [
    "svm_clf.score(x_test, y_test)"
   ],
   "metadata": {
    "collapsed": false
   }
  },
  {
   "cell_type": "markdown",
   "source": [
    "train_acc >> test_acc --> Overfitting"
   ],
   "metadata": {
    "collapsed": false
   }
  },
  {
   "cell_type": "code",
   "execution_count": 20,
   "outputs": [
    {
     "name": "stdout",
     "output_type": "stream",
     "text": [
      "Fitting 3 folds for each of 100 candidates, totalling 300 fits\n",
      "[CV] END ..................C=0.001, gamma=0.0001, kernel=rbf; total time=   0.4s\n",
      "[CV] END ..................C=0.001, gamma=0.0001, kernel=rbf; total time=   0.2s\n",
      "[CV] END ..................C=0.001, gamma=0.0001, kernel=rbf; total time=   0.1s\n",
      "[CV] END ..................C=0.001, gamma=0.0112, kernel=rbf; total time=   0.1s\n",
      "[CV] END ..................C=0.001, gamma=0.0112, kernel=rbf; total time=   0.1s\n",
      "[CV] END ..................C=0.001, gamma=0.0112, kernel=rbf; total time=   0.1s\n",
      "[CV] END ..................C=0.001, gamma=0.0223, kernel=rbf; total time=   0.1s\n",
      "[CV] END ..................C=0.001, gamma=0.0223, kernel=rbf; total time=   0.1s\n",
      "[CV] END ..................C=0.001, gamma=0.0223, kernel=rbf; total time=   0.1s\n",
      "[CV] END ....C=0.001, gamma=0.033400000000000006, kernel=rbf; total time=   0.1s\n",
      "[CV] END ....C=0.001, gamma=0.033400000000000006, kernel=rbf; total time=   0.1s\n",
      "[CV] END ....C=0.001, gamma=0.033400000000000006, kernel=rbf; total time=   0.1s\n",
      "[CV] END ....C=0.001, gamma=0.044500000000000005, kernel=rbf; total time=   0.2s\n",
      "[CV] END ....C=0.001, gamma=0.044500000000000005, kernel=rbf; total time=   0.1s\n",
      "[CV] END ....C=0.001, gamma=0.044500000000000005, kernel=rbf; total time=   0.1s\n",
      "[CV] END ....C=0.001, gamma=0.055600000000000004, kernel=rbf; total time=   0.1s\n",
      "[CV] END ....C=0.001, gamma=0.055600000000000004, kernel=rbf; total time=   0.1s\n",
      "[CV] END ....C=0.001, gamma=0.055600000000000004, kernel=rbf; total time=   0.1s\n",
      "[CV] END .....C=0.001, gamma=0.06670000000000001, kernel=rbf; total time=   0.1s\n",
      "[CV] END .....C=0.001, gamma=0.06670000000000001, kernel=rbf; total time=   0.1s\n",
      "[CV] END .....C=0.001, gamma=0.06670000000000001, kernel=rbf; total time=   0.1s\n",
      "[CV] END .....C=0.001, gamma=0.07780000000000001, kernel=rbf; total time=   0.1s\n",
      "[CV] END .....C=0.001, gamma=0.07780000000000001, kernel=rbf; total time=   0.1s\n",
      "[CV] END .....C=0.001, gamma=0.07780000000000001, kernel=rbf; total time=   0.1s\n",
      "[CV] END ..................C=0.001, gamma=0.0889, kernel=rbf; total time=   0.1s\n",
      "[CV] END ..................C=0.001, gamma=0.0889, kernel=rbf; total time=   0.1s\n",
      "[CV] END ..................C=0.001, gamma=0.0889, kernel=rbf; total time=   0.1s\n",
      "[CV] END .....................C=0.001, gamma=0.1, kernel=rbf; total time=   0.1s\n",
      "[CV] END .....................C=0.001, gamma=0.1, kernel=rbf; total time=   0.1s\n",
      "[CV] END .....................C=0.001, gamma=0.1, kernel=rbf; total time=   0.1s\n",
      "[CV] END .....C=1.1119999999999999, gamma=0.0001, kernel=rbf; total time=   0.0s\n",
      "[CV] END .....C=1.1119999999999999, gamma=0.0001, kernel=rbf; total time=   0.0s\n",
      "[CV] END .....C=1.1119999999999999, gamma=0.0001, kernel=rbf; total time=   0.0s\n",
      "[CV] END .....C=1.1119999999999999, gamma=0.0112, kernel=rbf; total time=   0.1s\n",
      "[CV] END .....C=1.1119999999999999, gamma=0.0112, kernel=rbf; total time=   0.1s\n",
      "[CV] END .....C=1.1119999999999999, gamma=0.0112, kernel=rbf; total time=   0.1s\n",
      "[CV] END .....C=1.1119999999999999, gamma=0.0223, kernel=rbf; total time=   0.1s\n",
      "[CV] END .....C=1.1119999999999999, gamma=0.0223, kernel=rbf; total time=   0.2s\n",
      "[CV] END .....C=1.1119999999999999, gamma=0.0223, kernel=rbf; total time=   0.1s\n",
      "[CV] END C=1.1119999999999999, gamma=0.033400000000000006, kernel=rbf; total time=   0.1s\n",
      "[CV] END C=1.1119999999999999, gamma=0.033400000000000006, kernel=rbf; total time=   0.3s\n",
      "[CV] END C=1.1119999999999999, gamma=0.033400000000000006, kernel=rbf; total time=   0.2s\n",
      "[CV] END C=1.1119999999999999, gamma=0.044500000000000005, kernel=rbf; total time=   0.1s\n",
      "[CV] END C=1.1119999999999999, gamma=0.044500000000000005, kernel=rbf; total time=   0.1s\n",
      "[CV] END C=1.1119999999999999, gamma=0.044500000000000005, kernel=rbf; total time=   0.1s\n",
      "[CV] END C=1.1119999999999999, gamma=0.055600000000000004, kernel=rbf; total time=   0.2s\n",
      "[CV] END C=1.1119999999999999, gamma=0.055600000000000004, kernel=rbf; total time=   0.1s\n",
      "[CV] END C=1.1119999999999999, gamma=0.055600000000000004, kernel=rbf; total time=   0.1s\n",
      "[CV] END C=1.1119999999999999, gamma=0.06670000000000001, kernel=rbf; total time=   0.2s\n",
      "[CV] END C=1.1119999999999999, gamma=0.06670000000000001, kernel=rbf; total time=   0.2s\n",
      "[CV] END C=1.1119999999999999, gamma=0.06670000000000001, kernel=rbf; total time=   0.1s\n",
      "[CV] END C=1.1119999999999999, gamma=0.07780000000000001, kernel=rbf; total time=   0.1s\n",
      "[CV] END C=1.1119999999999999, gamma=0.07780000000000001, kernel=rbf; total time=   0.1s\n",
      "[CV] END C=1.1119999999999999, gamma=0.07780000000000001, kernel=rbf; total time=   0.1s\n",
      "[CV] END .....C=1.1119999999999999, gamma=0.0889, kernel=rbf; total time=   0.1s\n",
      "[CV] END .....C=1.1119999999999999, gamma=0.0889, kernel=rbf; total time=   0.2s\n",
      "[CV] END .....C=1.1119999999999999, gamma=0.0889, kernel=rbf; total time=   0.1s\n",
      "[CV] END ........C=1.1119999999999999, gamma=0.1, kernel=rbf; total time=   0.2s\n",
      "[CV] END ........C=1.1119999999999999, gamma=0.1, kernel=rbf; total time=   0.1s\n",
      "[CV] END ........C=1.1119999999999999, gamma=0.1, kernel=rbf; total time=   0.1s\n",
      "[CV] END ..................C=2.223, gamma=0.0001, kernel=rbf; total time=   0.0s\n",
      "[CV] END ..................C=2.223, gamma=0.0001, kernel=rbf; total time=   0.0s\n",
      "[CV] END ..................C=2.223, gamma=0.0001, kernel=rbf; total time=   0.0s\n",
      "[CV] END ..................C=2.223, gamma=0.0112, kernel=rbf; total time=   0.1s\n",
      "[CV] END ..................C=2.223, gamma=0.0112, kernel=rbf; total time=   0.1s\n",
      "[CV] END ..................C=2.223, gamma=0.0112, kernel=rbf; total time=   0.1s\n",
      "[CV] END ..................C=2.223, gamma=0.0223, kernel=rbf; total time=   0.2s\n",
      "[CV] END ..................C=2.223, gamma=0.0223, kernel=rbf; total time=   0.4s\n",
      "[CV] END ..................C=2.223, gamma=0.0223, kernel=rbf; total time=   0.2s\n",
      "[CV] END ....C=2.223, gamma=0.033400000000000006, kernel=rbf; total time=   0.1s\n",
      "[CV] END ....C=2.223, gamma=0.033400000000000006, kernel=rbf; total time=   0.1s\n",
      "[CV] END ....C=2.223, gamma=0.033400000000000006, kernel=rbf; total time=   0.1s\n",
      "[CV] END ....C=2.223, gamma=0.044500000000000005, kernel=rbf; total time=   0.1s\n",
      "[CV] END ....C=2.223, gamma=0.044500000000000005, kernel=rbf; total time=   0.2s\n",
      "[CV] END ....C=2.223, gamma=0.044500000000000005, kernel=rbf; total time=   0.1s\n",
      "[CV] END ....C=2.223, gamma=0.055600000000000004, kernel=rbf; total time=   0.1s\n",
      "[CV] END ....C=2.223, gamma=0.055600000000000004, kernel=rbf; total time=   0.2s\n",
      "[CV] END ....C=2.223, gamma=0.055600000000000004, kernel=rbf; total time=   0.3s\n",
      "[CV] END .....C=2.223, gamma=0.06670000000000001, kernel=rbf; total time=   0.3s\n",
      "[CV] END .....C=2.223, gamma=0.06670000000000001, kernel=rbf; total time=   0.3s\n",
      "[CV] END .....C=2.223, gamma=0.06670000000000001, kernel=rbf; total time=   0.2s\n",
      "[CV] END .....C=2.223, gamma=0.07780000000000001, kernel=rbf; total time=   0.1s\n",
      "[CV] END .....C=2.223, gamma=0.07780000000000001, kernel=rbf; total time=   0.2s\n",
      "[CV] END .....C=2.223, gamma=0.07780000000000001, kernel=rbf; total time=   0.1s\n",
      "[CV] END ..................C=2.223, gamma=0.0889, kernel=rbf; total time=   0.2s\n",
      "[CV] END ..................C=2.223, gamma=0.0889, kernel=rbf; total time=   0.2s\n",
      "[CV] END ..................C=2.223, gamma=0.0889, kernel=rbf; total time=   0.2s\n",
      "[CV] END .....................C=2.223, gamma=0.1, kernel=rbf; total time=   0.1s\n",
      "[CV] END .....................C=2.223, gamma=0.1, kernel=rbf; total time=   0.1s\n",
      "[CV] END .....................C=2.223, gamma=0.1, kernel=rbf; total time=   0.2s\n",
      "[CV] END ..................C=3.334, gamma=0.0001, kernel=rbf; total time=   0.0s\n",
      "[CV] END ..................C=3.334, gamma=0.0001, kernel=rbf; total time=   0.0s\n",
      "[CV] END ..................C=3.334, gamma=0.0001, kernel=rbf; total time=   0.0s\n",
      "[CV] END ..................C=3.334, gamma=0.0112, kernel=rbf; total time=   0.1s\n",
      "[CV] END ..................C=3.334, gamma=0.0112, kernel=rbf; total time=   0.2s\n",
      "[CV] END ..................C=3.334, gamma=0.0112, kernel=rbf; total time=   0.1s\n",
      "[CV] END ..................C=3.334, gamma=0.0223, kernel=rbf; total time=   0.1s\n",
      "[CV] END ..................C=3.334, gamma=0.0223, kernel=rbf; total time=   0.1s\n",
      "[CV] END ..................C=3.334, gamma=0.0223, kernel=rbf; total time=   0.1s\n",
      "[CV] END ....C=3.334, gamma=0.033400000000000006, kernel=rbf; total time=   0.1s\n",
      "[CV] END ....C=3.334, gamma=0.033400000000000006, kernel=rbf; total time=   0.1s\n",
      "[CV] END ....C=3.334, gamma=0.033400000000000006, kernel=rbf; total time=   0.1s\n",
      "[CV] END ....C=3.334, gamma=0.044500000000000005, kernel=rbf; total time=   0.3s\n",
      "[CV] END ....C=3.334, gamma=0.044500000000000005, kernel=rbf; total time=   0.1s\n",
      "[CV] END ....C=3.334, gamma=0.044500000000000005, kernel=rbf; total time=   0.1s\n",
      "[CV] END ....C=3.334, gamma=0.055600000000000004, kernel=rbf; total time=   0.1s\n",
      "[CV] END ....C=3.334, gamma=0.055600000000000004, kernel=rbf; total time=   0.1s\n",
      "[CV] END ....C=3.334, gamma=0.055600000000000004, kernel=rbf; total time=   0.1s\n",
      "[CV] END .....C=3.334, gamma=0.06670000000000001, kernel=rbf; total time=   0.1s\n",
      "[CV] END .....C=3.334, gamma=0.06670000000000001, kernel=rbf; total time=   0.1s\n",
      "[CV] END .....C=3.334, gamma=0.06670000000000001, kernel=rbf; total time=   0.2s\n",
      "[CV] END .....C=3.334, gamma=0.07780000000000001, kernel=rbf; total time=   0.1s\n",
      "[CV] END .....C=3.334, gamma=0.07780000000000001, kernel=rbf; total time=   0.2s\n",
      "[CV] END .....C=3.334, gamma=0.07780000000000001, kernel=rbf; total time=   0.2s\n",
      "[CV] END ..................C=3.334, gamma=0.0889, kernel=rbf; total time=   0.1s\n",
      "[CV] END ..................C=3.334, gamma=0.0889, kernel=rbf; total time=   0.1s\n",
      "[CV] END ..................C=3.334, gamma=0.0889, kernel=rbf; total time=   0.1s\n",
      "[CV] END .....................C=3.334, gamma=0.1, kernel=rbf; total time=   0.2s\n",
      "[CV] END .....................C=3.334, gamma=0.1, kernel=rbf; total time=   0.1s\n",
      "[CV] END .....................C=3.334, gamma=0.1, kernel=rbf; total time=   0.1s\n",
      "[CV] END ..................C=4.445, gamma=0.0001, kernel=rbf; total time=   0.0s\n",
      "[CV] END ..................C=4.445, gamma=0.0001, kernel=rbf; total time=   0.0s\n",
      "[CV] END ..................C=4.445, gamma=0.0001, kernel=rbf; total time=   0.0s\n",
      "[CV] END ..................C=4.445, gamma=0.0112, kernel=rbf; total time=   0.1s\n",
      "[CV] END ..................C=4.445, gamma=0.0112, kernel=rbf; total time=   0.1s\n",
      "[CV] END ..................C=4.445, gamma=0.0112, kernel=rbf; total time=   0.1s\n",
      "[CV] END ..................C=4.445, gamma=0.0223, kernel=rbf; total time=   0.2s\n",
      "[CV] END ..................C=4.445, gamma=0.0223, kernel=rbf; total time=   0.2s\n",
      "[CV] END ..................C=4.445, gamma=0.0223, kernel=rbf; total time=   0.2s\n",
      "[CV] END ....C=4.445, gamma=0.033400000000000006, kernel=rbf; total time=   0.2s\n",
      "[CV] END ....C=4.445, gamma=0.033400000000000006, kernel=rbf; total time=   0.1s\n",
      "[CV] END ....C=4.445, gamma=0.033400000000000006, kernel=rbf; total time=   0.1s\n",
      "[CV] END ....C=4.445, gamma=0.044500000000000005, kernel=rbf; total time=   0.1s\n",
      "[CV] END ....C=4.445, gamma=0.044500000000000005, kernel=rbf; total time=   0.2s\n",
      "[CV] END ....C=4.445, gamma=0.044500000000000005, kernel=rbf; total time=   0.2s\n",
      "[CV] END ....C=4.445, gamma=0.055600000000000004, kernel=rbf; total time=   0.1s\n",
      "[CV] END ....C=4.445, gamma=0.055600000000000004, kernel=rbf; total time=   0.1s\n",
      "[CV] END ....C=4.445, gamma=0.055600000000000004, kernel=rbf; total time=   0.2s\n",
      "[CV] END .....C=4.445, gamma=0.06670000000000001, kernel=rbf; total time=   0.1s\n",
      "[CV] END .....C=4.445, gamma=0.06670000000000001, kernel=rbf; total time=   0.1s\n",
      "[CV] END .....C=4.445, gamma=0.06670000000000001, kernel=rbf; total time=   0.1s\n",
      "[CV] END .....C=4.445, gamma=0.07780000000000001, kernel=rbf; total time=   0.1s\n",
      "[CV] END .....C=4.445, gamma=0.07780000000000001, kernel=rbf; total time=   0.1s\n",
      "[CV] END .....C=4.445, gamma=0.07780000000000001, kernel=rbf; total time=   0.1s\n",
      "[CV] END ..................C=4.445, gamma=0.0889, kernel=rbf; total time=   0.2s\n",
      "[CV] END ..................C=4.445, gamma=0.0889, kernel=rbf; total time=   0.1s\n",
      "[CV] END ..................C=4.445, gamma=0.0889, kernel=rbf; total time=   0.1s\n",
      "[CV] END .....................C=4.445, gamma=0.1, kernel=rbf; total time=   0.2s\n",
      "[CV] END .....................C=4.445, gamma=0.1, kernel=rbf; total time=   0.1s\n",
      "[CV] END .....................C=4.445, gamma=0.1, kernel=rbf; total time=   0.1s\n",
      "[CV] END ..................C=5.556, gamma=0.0001, kernel=rbf; total time=   0.0s\n",
      "[CV] END ..................C=5.556, gamma=0.0001, kernel=rbf; total time=   0.0s\n",
      "[CV] END ..................C=5.556, gamma=0.0001, kernel=rbf; total time=   0.0s\n",
      "[CV] END ..................C=5.556, gamma=0.0112, kernel=rbf; total time=   0.1s\n",
      "[CV] END ..................C=5.556, gamma=0.0112, kernel=rbf; total time=   0.1s\n",
      "[CV] END ..................C=5.556, gamma=0.0112, kernel=rbf; total time=   0.1s\n",
      "[CV] END ..................C=5.556, gamma=0.0223, kernel=rbf; total time=   0.1s\n",
      "[CV] END ..................C=5.556, gamma=0.0223, kernel=rbf; total time=   0.1s\n",
      "[CV] END ..................C=5.556, gamma=0.0223, kernel=rbf; total time=   0.2s\n",
      "[CV] END ....C=5.556, gamma=0.033400000000000006, kernel=rbf; total time=   0.1s\n",
      "[CV] END ....C=5.556, gamma=0.033400000000000006, kernel=rbf; total time=   0.1s\n",
      "[CV] END ....C=5.556, gamma=0.033400000000000006, kernel=rbf; total time=   0.3s\n",
      "[CV] END ....C=5.556, gamma=0.044500000000000005, kernel=rbf; total time=   0.1s\n",
      "[CV] END ....C=5.556, gamma=0.044500000000000005, kernel=rbf; total time=   0.3s\n",
      "[CV] END ....C=5.556, gamma=0.044500000000000005, kernel=rbf; total time=   0.2s\n",
      "[CV] END ....C=5.556, gamma=0.055600000000000004, kernel=rbf; total time=   0.2s\n",
      "[CV] END ....C=5.556, gamma=0.055600000000000004, kernel=rbf; total time=   0.1s\n",
      "[CV] END ....C=5.556, gamma=0.055600000000000004, kernel=rbf; total time=   0.1s\n",
      "[CV] END .....C=5.556, gamma=0.06670000000000001, kernel=rbf; total time=   0.1s\n",
      "[CV] END .....C=5.556, gamma=0.06670000000000001, kernel=rbf; total time=   0.2s\n",
      "[CV] END .....C=5.556, gamma=0.06670000000000001, kernel=rbf; total time=   0.1s\n",
      "[CV] END .....C=5.556, gamma=0.07780000000000001, kernel=rbf; total time=   0.1s\n",
      "[CV] END .....C=5.556, gamma=0.07780000000000001, kernel=rbf; total time=   0.1s\n",
      "[CV] END .....C=5.556, gamma=0.07780000000000001, kernel=rbf; total time=   0.1s\n",
      "[CV] END ..................C=5.556, gamma=0.0889, kernel=rbf; total time=   0.1s\n",
      "[CV] END ..................C=5.556, gamma=0.0889, kernel=rbf; total time=   0.1s\n",
      "[CV] END ..................C=5.556, gamma=0.0889, kernel=rbf; total time=   0.1s\n",
      "[CV] END .....................C=5.556, gamma=0.1, kernel=rbf; total time=   0.1s\n",
      "[CV] END .....................C=5.556, gamma=0.1, kernel=rbf; total time=   0.1s\n",
      "[CV] END .....................C=5.556, gamma=0.1, kernel=rbf; total time=   0.3s\n",
      "[CV] END ......C=6.667000000000001, gamma=0.0001, kernel=rbf; total time=   0.0s\n",
      "[CV] END ......C=6.667000000000001, gamma=0.0001, kernel=rbf; total time=   0.0s\n",
      "[CV] END ......C=6.667000000000001, gamma=0.0001, kernel=rbf; total time=   0.0s\n",
      "[CV] END ......C=6.667000000000001, gamma=0.0112, kernel=rbf; total time=   0.1s\n",
      "[CV] END ......C=6.667000000000001, gamma=0.0112, kernel=rbf; total time=   0.1s\n",
      "[CV] END ......C=6.667000000000001, gamma=0.0112, kernel=rbf; total time=   0.1s\n",
      "[CV] END ......C=6.667000000000001, gamma=0.0223, kernel=rbf; total time=   0.1s\n",
      "[CV] END ......C=6.667000000000001, gamma=0.0223, kernel=rbf; total time=   0.2s\n",
      "[CV] END ......C=6.667000000000001, gamma=0.0223, kernel=rbf; total time=   0.1s\n",
      "[CV] END C=6.667000000000001, gamma=0.033400000000000006, kernel=rbf; total time=   0.1s\n",
      "[CV] END C=6.667000000000001, gamma=0.033400000000000006, kernel=rbf; total time=   0.1s\n",
      "[CV] END C=6.667000000000001, gamma=0.033400000000000006, kernel=rbf; total time=   0.1s\n",
      "[CV] END C=6.667000000000001, gamma=0.044500000000000005, kernel=rbf; total time=   0.1s\n",
      "[CV] END C=6.667000000000001, gamma=0.044500000000000005, kernel=rbf; total time=   0.1s\n",
      "[CV] END C=6.667000000000001, gamma=0.044500000000000005, kernel=rbf; total time=   0.1s\n",
      "[CV] END C=6.667000000000001, gamma=0.055600000000000004, kernel=rbf; total time=   0.1s\n",
      "[CV] END C=6.667000000000001, gamma=0.055600000000000004, kernel=rbf; total time=   0.2s\n",
      "[CV] END C=6.667000000000001, gamma=0.055600000000000004, kernel=rbf; total time=   0.1s\n",
      "[CV] END C=6.667000000000001, gamma=0.06670000000000001, kernel=rbf; total time=   0.1s\n",
      "[CV] END C=6.667000000000001, gamma=0.06670000000000001, kernel=rbf; total time=   0.2s\n",
      "[CV] END C=6.667000000000001, gamma=0.06670000000000001, kernel=rbf; total time=   0.2s\n",
      "[CV] END C=6.667000000000001, gamma=0.07780000000000001, kernel=rbf; total time=   0.1s\n",
      "[CV] END C=6.667000000000001, gamma=0.07780000000000001, kernel=rbf; total time=   0.1s\n",
      "[CV] END C=6.667000000000001, gamma=0.07780000000000001, kernel=rbf; total time=   0.1s\n",
      "[CV] END ......C=6.667000000000001, gamma=0.0889, kernel=rbf; total time=   0.1s\n",
      "[CV] END ......C=6.667000000000001, gamma=0.0889, kernel=rbf; total time=   0.1s\n",
      "[CV] END ......C=6.667000000000001, gamma=0.0889, kernel=rbf; total time=   0.1s\n",
      "[CV] END .........C=6.667000000000001, gamma=0.1, kernel=rbf; total time=   0.1s\n",
      "[CV] END .........C=6.667000000000001, gamma=0.1, kernel=rbf; total time=   0.2s\n",
      "[CV] END .........C=6.667000000000001, gamma=0.1, kernel=rbf; total time=   0.1s\n",
      "[CV] END .....C=7.7780000000000005, gamma=0.0001, kernel=rbf; total time=   0.0s\n",
      "[CV] END .....C=7.7780000000000005, gamma=0.0001, kernel=rbf; total time=   0.0s\n",
      "[CV] END .....C=7.7780000000000005, gamma=0.0001, kernel=rbf; total time=   0.0s\n",
      "[CV] END .....C=7.7780000000000005, gamma=0.0112, kernel=rbf; total time=   0.1s\n",
      "[CV] END .....C=7.7780000000000005, gamma=0.0112, kernel=rbf; total time=   0.1s\n",
      "[CV] END .....C=7.7780000000000005, gamma=0.0112, kernel=rbf; total time=   0.2s\n",
      "[CV] END .....C=7.7780000000000005, gamma=0.0223, kernel=rbf; total time=   0.1s\n",
      "[CV] END .....C=7.7780000000000005, gamma=0.0223, kernel=rbf; total time=   0.1s\n",
      "[CV] END .....C=7.7780000000000005, gamma=0.0223, kernel=rbf; total time=   0.1s\n",
      "[CV] END C=7.7780000000000005, gamma=0.033400000000000006, kernel=rbf; total time=   0.2s\n",
      "[CV] END C=7.7780000000000005, gamma=0.033400000000000006, kernel=rbf; total time=   0.2s\n",
      "[CV] END C=7.7780000000000005, gamma=0.033400000000000006, kernel=rbf; total time=   0.1s\n",
      "[CV] END C=7.7780000000000005, gamma=0.044500000000000005, kernel=rbf; total time=   0.1s\n",
      "[CV] END C=7.7780000000000005, gamma=0.044500000000000005, kernel=rbf; total time=   0.1s\n",
      "[CV] END C=7.7780000000000005, gamma=0.044500000000000005, kernel=rbf; total time=   0.1s\n",
      "[CV] END C=7.7780000000000005, gamma=0.055600000000000004, kernel=rbf; total time=   0.1s\n",
      "[CV] END C=7.7780000000000005, gamma=0.055600000000000004, kernel=rbf; total time=   0.1s\n",
      "[CV] END C=7.7780000000000005, gamma=0.055600000000000004, kernel=rbf; total time=   0.1s\n",
      "[CV] END C=7.7780000000000005, gamma=0.06670000000000001, kernel=rbf; total time=   0.1s\n",
      "[CV] END C=7.7780000000000005, gamma=0.06670000000000001, kernel=rbf; total time=   0.1s\n",
      "[CV] END C=7.7780000000000005, gamma=0.06670000000000001, kernel=rbf; total time=   0.1s\n",
      "[CV] END C=7.7780000000000005, gamma=0.07780000000000001, kernel=rbf; total time=   0.1s\n",
      "[CV] END C=7.7780000000000005, gamma=0.07780000000000001, kernel=rbf; total time=   0.1s\n",
      "[CV] END C=7.7780000000000005, gamma=0.07780000000000001, kernel=rbf; total time=   0.1s\n",
      "[CV] END .....C=7.7780000000000005, gamma=0.0889, kernel=rbf; total time=   0.1s\n",
      "[CV] END .....C=7.7780000000000005, gamma=0.0889, kernel=rbf; total time=   0.2s\n",
      "[CV] END .....C=7.7780000000000005, gamma=0.0889, kernel=rbf; total time=   0.1s\n",
      "[CV] END ........C=7.7780000000000005, gamma=0.1, kernel=rbf; total time=   0.1s\n",
      "[CV] END ........C=7.7780000000000005, gamma=0.1, kernel=rbf; total time=   0.1s\n",
      "[CV] END ........C=7.7780000000000005, gamma=0.1, kernel=rbf; total time=   0.1s\n",
      "[CV] END ..................C=8.889, gamma=0.0001, kernel=rbf; total time=   0.0s\n",
      "[CV] END ..................C=8.889, gamma=0.0001, kernel=rbf; total time=   0.0s\n",
      "[CV] END ..................C=8.889, gamma=0.0001, kernel=rbf; total time=   0.0s\n",
      "[CV] END ..................C=8.889, gamma=0.0112, kernel=rbf; total time=   0.1s\n",
      "[CV] END ..................C=8.889, gamma=0.0112, kernel=rbf; total time=   0.2s\n",
      "[CV] END ..................C=8.889, gamma=0.0112, kernel=rbf; total time=   0.1s\n",
      "[CV] END ..................C=8.889, gamma=0.0223, kernel=rbf; total time=   0.1s\n",
      "[CV] END ..................C=8.889, gamma=0.0223, kernel=rbf; total time=   0.2s\n",
      "[CV] END ..................C=8.889, gamma=0.0223, kernel=rbf; total time=   0.1s\n",
      "[CV] END ....C=8.889, gamma=0.033400000000000006, kernel=rbf; total time=   0.1s\n",
      "[CV] END ....C=8.889, gamma=0.033400000000000006, kernel=rbf; total time=   0.1s\n",
      "[CV] END ....C=8.889, gamma=0.033400000000000006, kernel=rbf; total time=   0.1s\n",
      "[CV] END ....C=8.889, gamma=0.044500000000000005, kernel=rbf; total time=   0.1s\n",
      "[CV] END ....C=8.889, gamma=0.044500000000000005, kernel=rbf; total time=   0.1s\n",
      "[CV] END ....C=8.889, gamma=0.044500000000000005, kernel=rbf; total time=   0.1s\n",
      "[CV] END ....C=8.889, gamma=0.055600000000000004, kernel=rbf; total time=   0.1s\n",
      "[CV] END ....C=8.889, gamma=0.055600000000000004, kernel=rbf; total time=   0.1s\n",
      "[CV] END ....C=8.889, gamma=0.055600000000000004, kernel=rbf; total time=   0.2s\n",
      "[CV] END .....C=8.889, gamma=0.06670000000000001, kernel=rbf; total time=   0.1s\n",
      "[CV] END .....C=8.889, gamma=0.06670000000000001, kernel=rbf; total time=   0.1s\n",
      "[CV] END .....C=8.889, gamma=0.06670000000000001, kernel=rbf; total time=   0.1s\n",
      "[CV] END .....C=8.889, gamma=0.07780000000000001, kernel=rbf; total time=   0.1s\n",
      "[CV] END .....C=8.889, gamma=0.07780000000000001, kernel=rbf; total time=   0.1s\n",
      "[CV] END .....C=8.889, gamma=0.07780000000000001, kernel=rbf; total time=   0.1s\n",
      "[CV] END ..................C=8.889, gamma=0.0889, kernel=rbf; total time=   0.2s\n",
      "[CV] END ..................C=8.889, gamma=0.0889, kernel=rbf; total time=   0.1s\n",
      "[CV] END ..................C=8.889, gamma=0.0889, kernel=rbf; total time=   0.1s\n",
      "[CV] END .....................C=8.889, gamma=0.1, kernel=rbf; total time=   0.1s\n",
      "[CV] END .....................C=8.889, gamma=0.1, kernel=rbf; total time=   0.2s\n",
      "[CV] END .....................C=8.889, gamma=0.1, kernel=rbf; total time=   0.1s\n",
      "[CV] END ...................C=10.0, gamma=0.0001, kernel=rbf; total time=   0.0s\n",
      "[CV] END ...................C=10.0, gamma=0.0001, kernel=rbf; total time=   0.0s\n",
      "[CV] END ...................C=10.0, gamma=0.0001, kernel=rbf; total time=   0.0s\n",
      "[CV] END ...................C=10.0, gamma=0.0112, kernel=rbf; total time=   0.2s\n",
      "[CV] END ...................C=10.0, gamma=0.0112, kernel=rbf; total time=   0.2s\n",
      "[CV] END ...................C=10.0, gamma=0.0112, kernel=rbf; total time=   0.1s\n",
      "[CV] END ...................C=10.0, gamma=0.0223, kernel=rbf; total time=   0.1s\n",
      "[CV] END ...................C=10.0, gamma=0.0223, kernel=rbf; total time=   0.1s\n",
      "[CV] END ...................C=10.0, gamma=0.0223, kernel=rbf; total time=   0.1s\n",
      "[CV] END .....C=10.0, gamma=0.033400000000000006, kernel=rbf; total time=   0.1s\n",
      "[CV] END .....C=10.0, gamma=0.033400000000000006, kernel=rbf; total time=   0.1s\n",
      "[CV] END .....C=10.0, gamma=0.033400000000000006, kernel=rbf; total time=   0.1s\n",
      "[CV] END .....C=10.0, gamma=0.044500000000000005, kernel=rbf; total time=   0.1s\n",
      "[CV] END .....C=10.0, gamma=0.044500000000000005, kernel=rbf; total time=   0.1s\n",
      "[CV] END .....C=10.0, gamma=0.044500000000000005, kernel=rbf; total time=   0.1s\n",
      "[CV] END .....C=10.0, gamma=0.055600000000000004, kernel=rbf; total time=   0.1s\n",
      "[CV] END .....C=10.0, gamma=0.055600000000000004, kernel=rbf; total time=   0.1s\n",
      "[CV] END .....C=10.0, gamma=0.055600000000000004, kernel=rbf; total time=   0.1s\n",
      "[CV] END ......C=10.0, gamma=0.06670000000000001, kernel=rbf; total time=   0.2s\n",
      "[CV] END ......C=10.0, gamma=0.06670000000000001, kernel=rbf; total time=   0.1s\n",
      "[CV] END ......C=10.0, gamma=0.06670000000000001, kernel=rbf; total time=   0.1s\n",
      "[CV] END ......C=10.0, gamma=0.07780000000000001, kernel=rbf; total time=   0.1s\n",
      "[CV] END ......C=10.0, gamma=0.07780000000000001, kernel=rbf; total time=   0.1s\n",
      "[CV] END ......C=10.0, gamma=0.07780000000000001, kernel=rbf; total time=   0.1s\n",
      "[CV] END ...................C=10.0, gamma=0.0889, kernel=rbf; total time=   0.1s\n",
      "[CV] END ...................C=10.0, gamma=0.0889, kernel=rbf; total time=   0.1s\n",
      "[CV] END ...................C=10.0, gamma=0.0889, kernel=rbf; total time=   0.1s\n",
      "[CV] END ......................C=10.0, gamma=0.1, kernel=rbf; total time=   0.1s\n",
      "[CV] END ......................C=10.0, gamma=0.1, kernel=rbf; total time=   0.1s\n",
      "[CV] END ......................C=10.0, gamma=0.1, kernel=rbf; total time=   0.1s\n"
     ]
    },
    {
     "data": {
      "text/plain": "GridSearchCV(cv=3, estimator=SVC(),\n             param_grid={'C': array([1.000e-03, 1.112e+00, 2.223e+00, 3.334e+00, 4.445e+00, 5.556e+00,\n       6.667e+00, 7.778e+00, 8.889e+00, 1.000e+01]),\n                         'gamma': array([0.0001, 0.0112, 0.0223, 0.0334, 0.0445, 0.0556, 0.0667, 0.0778,\n       0.0889, 0.1   ]),\n                         'kernel': ['rbf']},\n             verbose=2)",
      "text/html": "<style>#sk-container-id-2 {color: black;background-color: white;}#sk-container-id-2 pre{padding: 0;}#sk-container-id-2 div.sk-toggleable {background-color: white;}#sk-container-id-2 label.sk-toggleable__label {cursor: pointer;display: block;width: 100%;margin-bottom: 0;padding: 0.3em;box-sizing: border-box;text-align: center;}#sk-container-id-2 label.sk-toggleable__label-arrow:before {content: \"▸\";float: left;margin-right: 0.25em;color: #696969;}#sk-container-id-2 label.sk-toggleable__label-arrow:hover:before {color: black;}#sk-container-id-2 div.sk-estimator:hover label.sk-toggleable__label-arrow:before {color: black;}#sk-container-id-2 div.sk-toggleable__content {max-height: 0;max-width: 0;overflow: hidden;text-align: left;background-color: #f0f8ff;}#sk-container-id-2 div.sk-toggleable__content pre {margin: 0.2em;color: black;border-radius: 0.25em;background-color: #f0f8ff;}#sk-container-id-2 input.sk-toggleable__control:checked~div.sk-toggleable__content {max-height: 200px;max-width: 100%;overflow: auto;}#sk-container-id-2 input.sk-toggleable__control:checked~label.sk-toggleable__label-arrow:before {content: \"▾\";}#sk-container-id-2 div.sk-estimator input.sk-toggleable__control:checked~label.sk-toggleable__label {background-color: #d4ebff;}#sk-container-id-2 div.sk-label input.sk-toggleable__control:checked~label.sk-toggleable__label {background-color: #d4ebff;}#sk-container-id-2 input.sk-hidden--visually {border: 0;clip: rect(1px 1px 1px 1px);clip: rect(1px, 1px, 1px, 1px);height: 1px;margin: -1px;overflow: hidden;padding: 0;position: absolute;width: 1px;}#sk-container-id-2 div.sk-estimator {font-family: monospace;background-color: #f0f8ff;border: 1px dotted black;border-radius: 0.25em;box-sizing: border-box;margin-bottom: 0.5em;}#sk-container-id-2 div.sk-estimator:hover {background-color: #d4ebff;}#sk-container-id-2 div.sk-parallel-item::after {content: \"\";width: 100%;border-bottom: 1px solid gray;flex-grow: 1;}#sk-container-id-2 div.sk-label:hover label.sk-toggleable__label {background-color: #d4ebff;}#sk-container-id-2 div.sk-serial::before {content: \"\";position: absolute;border-left: 1px solid gray;box-sizing: border-box;top: 0;bottom: 0;left: 50%;z-index: 0;}#sk-container-id-2 div.sk-serial {display: flex;flex-direction: column;align-items: center;background-color: white;padding-right: 0.2em;padding-left: 0.2em;position: relative;}#sk-container-id-2 div.sk-item {position: relative;z-index: 1;}#sk-container-id-2 div.sk-parallel {display: flex;align-items: stretch;justify-content: center;background-color: white;position: relative;}#sk-container-id-2 div.sk-item::before, #sk-container-id-2 div.sk-parallel-item::before {content: \"\";position: absolute;border-left: 1px solid gray;box-sizing: border-box;top: 0;bottom: 0;left: 50%;z-index: -1;}#sk-container-id-2 div.sk-parallel-item {display: flex;flex-direction: column;z-index: 1;position: relative;background-color: white;}#sk-container-id-2 div.sk-parallel-item:first-child::after {align-self: flex-end;width: 50%;}#sk-container-id-2 div.sk-parallel-item:last-child::after {align-self: flex-start;width: 50%;}#sk-container-id-2 div.sk-parallel-item:only-child::after {width: 0;}#sk-container-id-2 div.sk-dashed-wrapped {border: 1px dashed gray;margin: 0 0.4em 0.5em 0.4em;box-sizing: border-box;padding-bottom: 0.4em;background-color: white;}#sk-container-id-2 div.sk-label label {font-family: monospace;font-weight: bold;display: inline-block;line-height: 1.2em;}#sk-container-id-2 div.sk-label-container {text-align: center;}#sk-container-id-2 div.sk-container {/* jupyter's `normalize.less` sets `[hidden] { display: none; }` but bootstrap.min.css set `[hidden] { display: none !important; }` so we also need the `!important` here to be able to override the default hidden behavior on the sphinx rendered scikit-learn.org. See: https://github.com/scikit-learn/scikit-learn/issues/21755 */display: inline-block !important;position: relative;}#sk-container-id-2 div.sk-text-repr-fallback {display: none;}</style><div id=\"sk-container-id-2\" class=\"sk-top-container\"><div class=\"sk-text-repr-fallback\"><pre>GridSearchCV(cv=3, estimator=SVC(),\n             param_grid={&#x27;C&#x27;: array([1.000e-03, 1.112e+00, 2.223e+00, 3.334e+00, 4.445e+00, 5.556e+00,\n       6.667e+00, 7.778e+00, 8.889e+00, 1.000e+01]),\n                         &#x27;gamma&#x27;: array([0.0001, 0.0112, 0.0223, 0.0334, 0.0445, 0.0556, 0.0667, 0.0778,\n       0.0889, 0.1   ]),\n                         &#x27;kernel&#x27;: [&#x27;rbf&#x27;]},\n             verbose=2)</pre><b>In a Jupyter environment, please rerun this cell to show the HTML representation or trust the notebook. <br />On GitHub, the HTML representation is unable to render, please try loading this page with nbviewer.org.</b></div><div class=\"sk-container\" hidden><div class=\"sk-item sk-dashed-wrapped\"><div class=\"sk-label-container\"><div class=\"sk-label sk-toggleable\"><input class=\"sk-toggleable__control sk-hidden--visually\" id=\"sk-estimator-id-2\" type=\"checkbox\" ><label for=\"sk-estimator-id-2\" class=\"sk-toggleable__label sk-toggleable__label-arrow\">GridSearchCV</label><div class=\"sk-toggleable__content\"><pre>GridSearchCV(cv=3, estimator=SVC(),\n             param_grid={&#x27;C&#x27;: array([1.000e-03, 1.112e+00, 2.223e+00, 3.334e+00, 4.445e+00, 5.556e+00,\n       6.667e+00, 7.778e+00, 8.889e+00, 1.000e+01]),\n                         &#x27;gamma&#x27;: array([0.0001, 0.0112, 0.0223, 0.0334, 0.0445, 0.0556, 0.0667, 0.0778,\n       0.0889, 0.1   ]),\n                         &#x27;kernel&#x27;: [&#x27;rbf&#x27;]},\n             verbose=2)</pre></div></div></div><div class=\"sk-parallel\"><div class=\"sk-parallel-item\"><div class=\"sk-item\"><div class=\"sk-label-container\"><div class=\"sk-label sk-toggleable\"><input class=\"sk-toggleable__control sk-hidden--visually\" id=\"sk-estimator-id-3\" type=\"checkbox\" ><label for=\"sk-estimator-id-3\" class=\"sk-toggleable__label sk-toggleable__label-arrow\">estimator: SVC</label><div class=\"sk-toggleable__content\"><pre>SVC()</pre></div></div></div><div class=\"sk-serial\"><div class=\"sk-item\"><div class=\"sk-estimator sk-toggleable\"><input class=\"sk-toggleable__control sk-hidden--visually\" id=\"sk-estimator-id-4\" type=\"checkbox\" ><label for=\"sk-estimator-id-4\" class=\"sk-toggleable__label sk-toggleable__label-arrow\">SVC</label><div class=\"sk-toggleable__content\"><pre>SVC()</pre></div></div></div></div></div></div></div></div></div></div>"
     },
     "execution_count": 20,
     "metadata": {},
     "output_type": "execute_result"
    }
   ],
   "source": [
    "from sklearn.model_selection import GridSearchCV\n",
    "\n",
    "param_grid = {\n",
    "    \"kernel\": [\"rbf\"],\n",
    "    \"C\": np.linspace(0.001, 10, 10),\n",
    "    \"gamma\": np.linspace(1e-4, 1e-1, 10)\n",
    "}\n",
    "\n",
    "cv_clf = GridSearchCV(SVC(), param_grid, verbose=2, cv=3)\n",
    "cv_clf.fit(x_train, y_train)"
   ],
   "metadata": {
    "collapsed": false
   }
  },
  {
   "cell_type": "code",
   "execution_count": 21,
   "outputs": [
    {
     "data": {
      "text/plain": "0.9972164231036882"
     },
     "execution_count": 21,
     "metadata": {},
     "output_type": "execute_result"
    }
   ],
   "source": [
    "cv_clf.best_estimator_.score(x_train, y_train)"
   ],
   "metadata": {
    "collapsed": false
   }
  },
  {
   "cell_type": "code",
   "execution_count": 22,
   "outputs": [
    {
     "data": {
      "text/plain": "0.9861111111111112"
     },
     "execution_count": 22,
     "metadata": {},
     "output_type": "execute_result"
    }
   ],
   "source": [
    "cv_clf.best_estimator_.score(x_test, y_test)"
   ],
   "metadata": {
    "collapsed": false
   }
  }
 ],
 "metadata": {
  "kernelspec": {
   "display_name": "Python 3",
   "language": "python",
   "name": "python3"
  },
  "language_info": {
   "codemirror_mode": {
    "name": "ipython",
    "version": 2
   },
   "file_extension": ".py",
   "mimetype": "text/x-python",
   "name": "python",
   "nbconvert_exporter": "python",
   "pygments_lexer": "ipython2",
   "version": "2.7.6"
  }
 },
 "nbformat": 4,
 "nbformat_minor": 0
}
